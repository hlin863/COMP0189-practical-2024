{
  "cells": [
    {
      "cell_type": "markdown",
      "metadata": {
        "id": "Uyu0ma5quxjS"
      },
      "source": [
        "# COMP0189: Applied Artificial Intelligence\n",
        "\n",
        "## Week 4 (Linear models, Trees and Ensemble Models )\n",
        "\n",
        "### After this week you will be able to ...    \n",
        "    - run various regularized linear models and optimize their regularization parameter in a proper way\n",
        "    - visualize coefficient of linear models\n",
        "    - run tree based and emsemble models\n",
        "    - visualize feature importane for tree based models\n",
        "\n",
        "\n",
        "   \n",
        "\n",
        "\n",
        "\n",
        "We will use the Housing dataset for predicting house prices. It includes a variety of features that are commonly believed to influence the price of a house. These features include aspects like the size of the house, the number of bedrooms and bathrooms, location, and other relevant attributes.\n",
        "\n",
        "\n",
        "\n",
        "### Acknowledgements\n",
        "- https://scikit-learn.org/stable/\n",
        "- Harrison, D. and Rubinfeld, D.L. (1978) Hedonic prices and the demand for clean air. J. Environ. Economics and Management 5, 81–102.\n",
        "Belsley D.A., Kuh, E. and Welsch, R.E. (1980) Regression Diagnostics. Identifying Influential Data and Sources of Collinearity. New York: Wiley.\n",
        "\n",
        "- https://www.kaggle.com/datasets/yasserh/housing-prices-dataset"
      ]
    },
    {
      "cell_type": "code",
      "execution_count": 1,
      "metadata": {
        "id": "TV4ns6TEuxjX"
      },
      "outputs": [],
      "source": [
        "import numpy as np\n",
        "import pandas as pd\n",
        "import matplotlib.pyplot as plt"
      ]
    },
    {
      "cell_type": "code",
      "execution_count": 2,
      "metadata": {
        "id": "VY7dMdDvuxjY",
        "scrolled": false
      },
      "outputs": [
        {
          "data": {
            "text/html": [
              "<div>\n",
              "<style scoped>\n",
              "    .dataframe tbody tr th:only-of-type {\n",
              "        vertical-align: middle;\n",
              "    }\n",
              "\n",
              "    .dataframe tbody tr th {\n",
              "        vertical-align: top;\n",
              "    }\n",
              "\n",
              "    .dataframe thead th {\n",
              "        text-align: right;\n",
              "    }\n",
              "</style>\n",
              "<table border=\"1\" class=\"dataframe\">\n",
              "  <thead>\n",
              "    <tr style=\"text-align: right;\">\n",
              "      <th></th>\n",
              "      <th>price</th>\n",
              "      <th>area</th>\n",
              "      <th>bedrooms</th>\n",
              "      <th>bathrooms</th>\n",
              "      <th>stories</th>\n",
              "      <th>mainroad</th>\n",
              "      <th>guestroom</th>\n",
              "      <th>basement</th>\n",
              "      <th>hotwaterheating</th>\n",
              "      <th>airconditioning</th>\n",
              "      <th>parking</th>\n",
              "      <th>prefarea</th>\n",
              "      <th>furnishingstatus</th>\n",
              "    </tr>\n",
              "  </thead>\n",
              "  <tbody>\n",
              "    <tr>\n",
              "      <th>0</th>\n",
              "      <td>13300000</td>\n",
              "      <td>7420</td>\n",
              "      <td>4</td>\n",
              "      <td>2</td>\n",
              "      <td>3</td>\n",
              "      <td>yes</td>\n",
              "      <td>no</td>\n",
              "      <td>no</td>\n",
              "      <td>no</td>\n",
              "      <td>yes</td>\n",
              "      <td>2</td>\n",
              "      <td>yes</td>\n",
              "      <td>furnished</td>\n",
              "    </tr>\n",
              "    <tr>\n",
              "      <th>1</th>\n",
              "      <td>12250000</td>\n",
              "      <td>8960</td>\n",
              "      <td>4</td>\n",
              "      <td>4</td>\n",
              "      <td>4</td>\n",
              "      <td>yes</td>\n",
              "      <td>no</td>\n",
              "      <td>no</td>\n",
              "      <td>no</td>\n",
              "      <td>yes</td>\n",
              "      <td>3</td>\n",
              "      <td>no</td>\n",
              "      <td>furnished</td>\n",
              "    </tr>\n",
              "    <tr>\n",
              "      <th>2</th>\n",
              "      <td>12250000</td>\n",
              "      <td>9960</td>\n",
              "      <td>3</td>\n",
              "      <td>2</td>\n",
              "      <td>2</td>\n",
              "      <td>yes</td>\n",
              "      <td>no</td>\n",
              "      <td>yes</td>\n",
              "      <td>no</td>\n",
              "      <td>no</td>\n",
              "      <td>2</td>\n",
              "      <td>yes</td>\n",
              "      <td>semi-furnished</td>\n",
              "    </tr>\n",
              "    <tr>\n",
              "      <th>3</th>\n",
              "      <td>12215000</td>\n",
              "      <td>7500</td>\n",
              "      <td>4</td>\n",
              "      <td>2</td>\n",
              "      <td>2</td>\n",
              "      <td>yes</td>\n",
              "      <td>no</td>\n",
              "      <td>yes</td>\n",
              "      <td>no</td>\n",
              "      <td>yes</td>\n",
              "      <td>3</td>\n",
              "      <td>yes</td>\n",
              "      <td>furnished</td>\n",
              "    </tr>\n",
              "    <tr>\n",
              "      <th>4</th>\n",
              "      <td>11410000</td>\n",
              "      <td>7420</td>\n",
              "      <td>4</td>\n",
              "      <td>1</td>\n",
              "      <td>2</td>\n",
              "      <td>yes</td>\n",
              "      <td>yes</td>\n",
              "      <td>yes</td>\n",
              "      <td>no</td>\n",
              "      <td>yes</td>\n",
              "      <td>2</td>\n",
              "      <td>no</td>\n",
              "      <td>furnished</td>\n",
              "    </tr>\n",
              "  </tbody>\n",
              "</table>\n",
              "</div>"
            ],
            "text/plain": [
              "      price  area  bedrooms  bathrooms  stories mainroad guestroom basement  \\\n",
              "0  13300000  7420         4          2        3      yes        no       no   \n",
              "1  12250000  8960         4          4        4      yes        no       no   \n",
              "2  12250000  9960         3          2        2      yes        no      yes   \n",
              "3  12215000  7500         4          2        2      yes        no      yes   \n",
              "4  11410000  7420         4          1        2      yes       yes      yes   \n",
              "\n",
              "  hotwaterheating airconditioning  parking prefarea furnishingstatus  \n",
              "0              no             yes        2      yes        furnished  \n",
              "1              no             yes        3       no        furnished  \n",
              "2              no              no        2      yes   semi-furnished  \n",
              "3              no             yes        3      yes        furnished  \n",
              "4              no             yes        2       no        furnished  "
            ]
          },
          "execution_count": 2,
          "metadata": {},
          "output_type": "execute_result"
        }
      ],
      "source": [
        "df = pd.read_csv(\"Housing.csv\")\n",
        "df.head()"
      ]
    },
    {
      "cell_type": "code",
      "execution_count": 3,
      "metadata": {},
      "outputs": [],
      "source": [
        "interest_rate = 0.04\n",
        "number_payments = 12\n",
        "number_years = 30"
      ]
    },
    {
      "cell_type": "code",
      "execution_count": 4,
      "metadata": {},
      "outputs": [],
      "source": [
        "# define a budget constraint function\n",
        "def mortage_calculator(annual_income, price, x):\n",
        "    interest_factor = (1 + (interest_rate / number_payments)) ** (number_years * number_payments)\n",
        "    payment = price * (interest_rate / number_payments) * (interest_factor / (interest_factor - 1))\n",
        "    return payment"
      ]
    },
    {
      "cell_type": "code",
      "execution_count": 5,
      "metadata": {},
      "outputs": [
        {
          "data": {
            "text/plain": [
              "63496.23429690536"
            ]
          },
          "execution_count": 5,
          "metadata": {},
          "output_type": "execute_result"
        }
      ],
      "source": [
        "# test budget constraint function on an user with annual income of 100k on the first housing data\n",
        "mortage_calculator(100000, df['price'][0], df['bedrooms'][0])"
      ]
    },
    {
      "cell_type": "code",
      "execution_count": 6,
      "metadata": {},
      "outputs": [
        {
          "data": {
            "image/png": "[encoded data removed]",
            "text/plain": [
              "<Figure size 432x288 with 1 Axes>"
            ]
          },
          "metadata": {
            "needs_background": "light"
          },
          "output_type": "display_data"
        }
      ],
      "source": [
        "# plot a distribution curve for the house prices\n",
        "plt.hist(df['price'], bins = 20)\n",
        "plt.xlabel('Price')\n",
        "plt.ylabel('Frequency')\n",
        "plt.title('Distribution of House Prices')\n",
        "plt.show()"
      ]
    },
    {
      "cell_type": "markdown",
      "metadata": {
        "id": "6XnBhXmluxjZ"
      },
      "source": [
        "## Task 1: Create a pipeline for hyper-parameter tuning and model comparison"
      ]
    },
    {
      "cell_type": "markdown",
      "metadata": {
        "id": "gK9iHoktuxja"
      },
      "source": [
        "1.1 Create a pipeline to optize the regularization hyper-paramaters of different linear models (Ridge regression, LASSO and elastic-net) and chose the best model for predicting house prices based on the features provided. Print the average cross-validation performance (with the standard deviation) as well as the test performance.\n",
        "\n",
        "Linear models: https://scikit-learn.org/stable/modules/linear_model.html#"
      ]
    },
    {
      "cell_type": "code",
      "execution_count": 7,
      "metadata": {
        "id": "LI6ym6BFuxja"
      },
      "outputs": [
        {
          "name": "stdout",
          "output_type": "stream",
          "text": [
            "{'regressor__alpha': 2.656087782946687}\n",
            "{'regressor__alpha': 2848.035868435805}\n",
            "{'regressor__alpha': 0.01, 'regressor__l1_ratio': 0.2}\n",
            "Ridge\n",
            "RMSE:  972699.2793508288\n",
            "R2:  0.671650903374506\n",
            "\n",
            "Lasso\n",
            "RMSE:  979312.5738314639\n",
            "R2:  0.6671708937223337\n",
            "\n",
            "ElasticNet\n",
            "RMSE:  969147.9832704817\n",
            "R2:  0.674044112150362\n",
            "\n"
          ]
        }
      ],
      "source": [
        "from sklearn.model_selection import GridSearchCV\n",
        "from sklearn.linear_model import Ridge, Lasso, ElasticNet\n",
        "from sklearn.metrics import mean_squared_error, r2_score\n",
        "import math\n",
        "from sklearn.model_selection import train_test_split, GridSearchCV\n",
        "from sklearn.pipeline import Pipeline\n",
        "from sklearn.preprocessing import StandardScaler, OneHotEncoder, OrdinalEncoder\n",
        "from sklearn.compose import ColumnTransformer\n",
        "from sklearn.linear_model import Ridge, Lasso, ElasticNet\n",
        "from sklearn.metrics import mean_squared_error, r2_score\n",
        "import math\n",
        "import pandas as pd\n",
        "from scipy.stats import loguniform\n",
        "import numpy as np\n",
        "import random\n",
        "\n",
        "random.seed(0)\n",
        "\n",
        "# Preprocess the data: Encoding categorical variables\n",
        "categorical_features = ['mainroad', 'guestroom', 'basement', 'hotwaterheating', 'airconditioning', 'prefarea', 'furnishingstatus']\n",
        "numerical_features = df.drop(columns=['price'] + categorical_features).columns.tolist()\n",
        "\n",
        "\n",
        "# split the data into train and test sets\n",
        "X_train, X_test, y_train, y_test = train_test_split(df.drop(columns=['price']), df['price'], test_size=0.2, random_state=0)\n",
        "\n",
        "binary_categorical_features = ['mainroad', 'guestroom',\n",
        "                               'basement', 'hotwaterheating', 'airconditioning', 'prefarea']\n",
        "non_binary_categorical_features = ['furnishingstatus']\n",
        "\n",
        "# Define the pipeline\n",
        "numeric_transformer = Pipeline(steps=[('scaler', StandardScaler())])\n",
        "\n",
        "preprocessor = ColumnTransformer(transformers=[\n",
        "    ('num', numeric_transformer, numerical_features),\n",
        "    ('ordinal', OrdinalEncoder(), binary_categorical_features),\n",
        "    ('onehot', OneHotEncoder(handle_unknown='ignore'), non_binary_categorical_features)\n",
        "])\n",
        "\n",
        "# apply the preprocessing pipeline to the training data\n",
        "X_train = preprocessor.fit_transform(X_train)\n",
        "\n",
        "X_test = preprocessor.transform(X_test)\n",
        "\n",
        "# Define the parameter grids for each model\n",
        "ridge_params = {'regressor__alpha': np.logspace(-2, 10, 100)}\n",
        "lasso_params = {'regressor__alpha': np.logspace(-2, 10, 100)}\n",
        "elastic_params = {'regressor__alpha': np.logspace(-2, 10, 100), 'regressor__l1_ratio': [0.01, 0.2, 0.5, 0.8]}\n",
        "\n",
        "# Create a grid search for the optimal parameters for each model and determine the best model.\n",
        "ridge_grid = GridSearchCV(Pipeline(steps=[('regressor', Ridge())]), ridge_params, scoring='neg_mean_squared_error', cv=5)\n",
        "lasso_grid = GridSearchCV(Pipeline(steps=[('regressor', Lasso())]), lasso_params, scoring='neg_mean_squared_error', cv=5)\n",
        "elastic_grid = GridSearchCV(Pipeline(steps=[('regressor', ElasticNet())]), elastic_params, scoring='neg_mean_squared_error', cv=5)\n",
        "\n",
        "ridge_grid.fit(X_train, y_train)\n",
        "\n",
        "lasso_grid.fit(X_train, y_train)\n",
        "\n",
        "elastic_grid.fit(X_train, y_train)\n",
        "\n",
        "# apply GridSearchCV to the train data\n",
        "print(ridge_grid.best_params_)\n",
        "\n",
        "print(lasso_grid.best_params_)\n",
        "\n",
        "print(elastic_grid.best_params_)\n",
        "\n",
        "# use GridSearchCV to determine the best model from the optimal parameters\n",
        "# use GridSearchCV to determine the best model from the optimal parameters\n",
        "ridge = Pipeline(steps=[('regressor', Ridge(**{k.replace('regressor__', ''): v for k, v in ridge_grid.best_params_.items()}))])\n",
        "\n",
        "lasso = Pipeline(steps=[('regressor', Lasso(**{k.replace('regressor__', ''): v for k, v in lasso_grid.best_params_.items()}))])\n",
        "\n",
        "elastic = Pipeline(steps=[('regressor', ElasticNet(**{k.replace('regressor__', ''): v for k, v in elastic_grid.best_params_.items()}))])\n",
        "\n",
        "# create a pipeline for Gridsearch across ridge, lasso, and elastic net models\n",
        "models = [ridge, lasso, elastic]\n",
        "\n",
        "# create a function to calculate the RMSE and R2 scores for each model\n",
        "def model_scores(models, X_train, y_train, X_test, y_test):\n",
        "    for model in models:\n",
        "        model.fit(X_train, y_train)\n",
        "        y_pred = model.predict(X_test)\n",
        "        print(model.steps[0][1].__class__.__name__)\n",
        "        print('RMSE: ', math.sqrt(mean_squared_error(y_test, y_pred)))\n",
        "        print('R2: ', r2_score(y_test, y_pred))\n",
        "        print('')\n",
        "\n",
        "model_scores(models, X_train, y_train, X_test, y_test)"
      ]
    },
    {
      "cell_type": "markdown",
      "metadata": {
        "id": "T_FLSx8Nuxjb"
      },
      "source": [
        "1.2 Create a plot to show the performance of the different models during hyper-parameter optimization (i.e. the figure should show for each model how the performance varies for the different hyper-parameter value)"
      ]
    },
    {
      "cell_type": "code",
      "execution_count": 8,
      "metadata": {
        "id": "c1IHtU9buxjc"
      },
      "outputs": [
        {
          "data": {
            "image/png": "[encoded data removed]",
            "text/plain": [
              "<Figure size 720x432 with 1 Axes>"
            ]
          },
          "metadata": {
            "needs_background": "light"
          },
          "output_type": "display_data"
        }
      ],
      "source": [
        "import matplotlib.pyplot as plt\n",
        "import pandas as pd\n",
        "\n",
        "import numpy as np\n",
        "\n",
        "def plot_model_performance(grid_search, model_name, ax):\n",
        "    results = pd.DataFrame(grid_search.cv_results_)\n",
        "    if model_name != 'ElasticNet':\n",
        "        # For Ridge and Lasso\n",
        "        alphas = results['param_regressor__alpha']\n",
        "        scores = -results['mean_test_score']  # Negate to get MSE\n",
        "        ax.semilogx(alphas, scores, label=model_name, linestyle='-')\n",
        "\n",
        "    else:\n",
        "        # For ElasticNet, need to handle combinations of alpha and l1_ratio\n",
        "        alphas = results['param_regressor__alpha']\n",
        "        l1_ratios = results['param_regressor__l1_ratio']\n",
        "        scores = -results['mean_test_score']  # Negate to get MSE\n",
        "\n",
        "        # Unique l1_ratios for plotting\n",
        "        unique_l1_ratios = np.unique(l1_ratios)\n",
        "        for l1_ratio in unique_l1_ratios:\n",
        "            # Filter scores for each l1_ratio\n",
        "            indices = l1_ratios == l1_ratio\n",
        "            ax.semilogx(alphas[indices], scores[indices], label=f'ElasticNet l1_ratio={l1_ratio}', linestyle='-')\n",
        "\n",
        "# Create a single figure and axis\n",
        "fig, ax = plt.subplots(figsize=(10, 6))\n",
        "\n",
        "grid_search_ridge = GridSearchCV(Pipeline(steps=[('regressor', Ridge())]), ridge_params, scoring='neg_mean_squared_error', cv=5)\n",
        "grid_search_lasso = GridSearchCV(Pipeline(steps=[('regressor', Lasso())]), lasso_params, scoring='neg_mean_squared_error', cv=5)\n",
        "grid_search_elastic = GridSearchCV(Pipeline(steps=[('regressor', ElasticNet())]), elastic_params, scoring='neg_mean_squared_error', cv=5)\n",
        "\n",
        "grid_search_ridge.fit(X_train, y_train)\n",
        "\n",
        "grid_search_lasso.fit(X_train, y_train)\n",
        "\n",
        "grid_search_elastic.fit(X_train, y_train)\n",
        "\n",
        "# Plot the performance of each model on the same axis\n",
        "plot_model_performance(grid_search_ridge, 'Ridge', ax)\n",
        "plot_model_performance(grid_search_lasso, 'Lasso', ax)\n",
        "plot_model_performance(grid_search_elastic, 'ElasticNet', ax)\n",
        "\n",
        "# Set labels, title, legend, and grid for the plot\n",
        "ax.set_xlabel('Alpha')\n",
        "ax.set_ylabel('Mean Test Score (Lower is better)')\n",
        "ax.set_title('Model Performance Across Hyperparameters')\n",
        "ax.legend()\n",
        "ax.grid(True)\n",
        "\n",
        "# Show the plot\n",
        "plt.show()\n"
      ]
    },
    {
      "cell_type": "markdown",
      "metadata": {
        "id": "blbL9yRSuxjc"
      },
      "source": [
        "1.3 Create figures to show the models coefficients for model interpretation (i.e. including the feature names)."
      ]
    },
    {
      "cell_type": "code",
      "execution_count": null,
      "metadata": {
        "id": "Z5YaEySjuxj4"
      },
      "outputs": [],
      "source": [
        "import matplotlib.pyplot as plt\n",
        "import numpy as np\n",
        "\n",
        "import matplotlib.pyplot as plt\n",
        "import numpy as np\n",
        "\n",
        "# Function to plot model coefficients\n",
        "def plot_model_coefficients(model, model_name, numerical_features, categorical_features):\n",
        "    # Extract coefficients\n",
        "    coefs = model.named_steps['regressor'].coef_\n",
        "\n",
        "    # Get feature names from the preprocessor\n",
        "    # For one-hot encoded features, get the feature names from the encoder\n",
        "    feature_names = []\n",
        "\n",
        "    # For numerical features, just use the feature names\n",
        "    feature_names.extend(numerical_features)\n",
        "\n",
        "    feature_names.extend(binary_categorical_features)\n",
        "\n",
        "    feature_names.extend(non_binary_categorical_features)\n",
        "\n",
        "    # Sort the coefficients and corresponding feature names\n",
        "    sorted_indices = np.argsort(coefs)\n",
        "\n",
        "    sorted_coefs = coefs[sorted_indices]\n",
        "\n",
        "    sorted_feature_names = np.array(feature_names)[sorted_indices]\n",
        "\n",
        "    # Plot\n",
        "    plt.figure(figsize=(10, 6))\n",
        "\n",
        "    plt.barh(sorted_feature_names, sorted_coefs)\n",
        "\n",
        "    plt.xlabel('Coefficient Value')\n",
        "\n",
        "    plt.title(f'{model_name} Coefficients')\n",
        "\n",
        "    plt.show()\n",
        "\n",
        "# Extract best models\n",
        "best_ridge = grid_search_ridge.best_estimator_\n",
        "best_lasso = grid_search_lasso.best_estimator_\n",
        "best_elastic = grid_search_elastic.best_estimator_\n",
        "\n",
        "# Assume best_ridge, best_lasso, best_elastic are already defined and are the best estimators from GridSearchCV\n",
        "plot_model_coefficients(best_ridge, \"Ridge\", numerical_features, categorical_features)\n",
        "plot_model_coefficients(best_lasso, \"Lasso\", numerical_features, categorical_features)\n",
        "plot_model_coefficients(best_elastic, \"ElasticNet\", numerical_features, categorical_features)\n",
        "\n"
      ]
    },
    {
      "cell_type": "markdown",
      "metadata": {
        "id": "Rf6E0ZASuxj4"
      },
      "source": [
        "1.4 Create a similarity matrix to show the similarity of the coefficents across the different models"
      ]
    },
    {
      "cell_type": "code",
      "execution_count": null,
      "metadata": {
        "id": "A9gRL6bRuxj5"
      },
      "outputs": [],
      "source": [
        "from sklearn.metrics.pairwise import cosine_similarity\n",
        "import matplotlib.pyplot as plt\n",
        "import seaborn as sns\n",
        "import pandas as pd\n",
        "\n",
        "# Extract coefficients\n",
        "\n",
        "\n",
        "# Form a matrix of coefficients\n",
        "\n",
        "# Calculate similarity matrix\n",
        "\n",
        "# Convert the matrix to a DataFrame for better readability\n",
        "\n",
        "# Plotting the similarity matrix\n",
        "\n",
        "\n"
      ]
    },
    {
      "cell_type": "markdown",
      "metadata": {
        "id": "YNw6xH5juxj6"
      },
      "source": [
        "### Discussion: How does the performance compare across models? Are the coefficients similar across models?"
      ]
    },
    {
      "cell_type": "markdown",
      "metadata": {
        "id": "C9Y0eaxOuxj6"
      },
      "source": [
        "## Task 2: Create an example of wrong pipeline for task 1.1 and the average CV as well as the test performance."
      ]
    },
    {
      "cell_type": "code",
      "execution_count": null,
      "metadata": {
        "id": "x2c8tPgTuxj7"
      },
      "outputs": [],
      "source": []
    },
    {
      "cell_type": "markdown",
      "metadata": {
        "id": "17ssMZLXuxj7"
      },
      "source": [
        "**Discussion**  \n",
        "**Did the model performance changed when using a wrong pipeline?**"
      ]
    },
    {
      "cell_type": "markdown",
      "metadata": {
        "id": "VqxwOPNMuxj8"
      },
      "source": [
        "## Task 3: Tree and ensemble models"
      ]
    },
    {
      "cell_type": "markdown",
      "metadata": {
        "id": "WbECao3Iuxj8"
      },
      "source": [
        "3.1 For the same dataset compare the performance of a decision tree and ensemble methods (bagging, boosting and gradient boosting) on predicting the house prices. Compute the feature importance for the different models. Create a table/plots to show the performance of the different models.\n",
        "\n",
        "Trees: https://scikit-learn.org/stable/modules/classes.html#module-sklearn.tree  \n",
        "Ensembles: https://scikit-learn.org/stable/modules/classes.html#module-sklearn.ensemble"
      ]
    },
    {
      "cell_type": "code",
      "execution_count": null,
      "metadata": {
        "id": "XkFbo8Uquxj9"
      },
      "outputs": [],
      "source": [
        "from sklearn.tree import DecisionTreeRegressor\n",
        "from sklearn.ensemble import RandomForestClassifier\n",
        "from sklearn.ensemble import BaggingRegressor, AdaBoostRegressor, GradientBoostingRegressor\n"
      ]
    },
    {
      "cell_type": "code",
      "execution_count": null,
      "metadata": {
        "colab": {
          "base_uri": "https://localhost:8080/",
          "height": 329
        },
        "id": "ZjW2GANsuxj9",
        "outputId": "c1714867-a8e0-4321-928f-dc1a5f5ef1eb"
      },
      "outputs": [
        {
          "name": "stdout",
          "output_type": "stream",
          "text": [
            "Decision Tree - Test RMSE: 1457825.542, Test R-squared: 0.262\n",
            "Bagging - Test RMSE: 1119007.196, Test R-squared: 0.565\n"
          ]
        },
        {
          "name": "stderr",
          "output_type": "stream",
          "text": [
            "/usr/local/lib/python3.10/dist-packages/sklearn/ensemble/_base.py:166: FutureWarning: `base_estimator` was renamed to `estimator` in version 1.2 and will be removed in 1.4.\n",
            "  warnings.warn(\n",
            "/usr/local/lib/python3.10/dist-packages/sklearn/ensemble/_base.py:166: FutureWarning: `base_estimator` was renamed to `estimator` in version 1.2 and will be removed in 1.4.\n",
            "  warnings.warn(\n"
          ]
        },
        {
          "name": "stdout",
          "output_type": "stream",
          "text": [
            "Boosting - Test RMSE: 1012366.657, Test R-squared: 0.644\n",
            "Gradient Boosting - Test RMSE: 1095379.392, Test R-squared: 0.584\n"
          ]
        },
        {
          "data": {
            "text/html": [
              "\n",
              "  <div id=\"df-b0747978-b3d1-4201-8da1-18a774cd49b7\" class=\"colab-df-container\">\n",
              "    <div>\n",
              "<style scoped>\n",
              "    .dataframe tbody tr th:only-of-type {\n",
              "        vertical-align: middle;\n",
              "    }\n",
              "\n",
              "    .dataframe tbody tr th {\n",
              "        vertical-align: top;\n",
              "    }\n",
              "\n",
              "    .dataframe thead th {\n",
              "        text-align: right;\n",
              "    }\n",
              "</style>\n",
              "<table border=\"1\" class=\"dataframe\">\n",
              "  <thead>\n",
              "    <tr style=\"text-align: right;\">\n",
              "      <th></th>\n",
              "      <th>Model</th>\n",
              "      <th>Test RMSE</th>\n",
              "      <th>Test R2</th>\n",
              "    </tr>\n",
              "  </thead>\n",
              "  <tbody>\n",
              "    <tr>\n",
              "      <th>0</th>\n",
              "      <td>Decision Tree</td>\n",
              "      <td>1.457826e+06</td>\n",
              "      <td>0.262453</td>\n",
              "    </tr>\n",
              "    <tr>\n",
              "      <th>1</th>\n",
              "      <td>Bagging</td>\n",
              "      <td>1.119007e+06</td>\n",
              "      <td>0.565445</td>\n",
              "    </tr>\n",
              "    <tr>\n",
              "      <th>2</th>\n",
              "      <td>Boosting</td>\n",
              "      <td>1.012367e+06</td>\n",
              "      <td>0.644324</td>\n",
              "    </tr>\n",
              "    <tr>\n",
              "      <th>3</th>\n",
              "      <td>Gradient Boosting</td>\n",
              "      <td>1.095379e+06</td>\n",
              "      <td>0.583603</td>\n",
              "    </tr>\n",
              "  </tbody>\n",
              "</table>\n",
              "</div>\n",
              "    <div class=\"colab-df-buttons\">\n",
              "\n",
              "  <div class=\"colab-df-container\">\n",
              "    <button class=\"colab-df-convert\" onclick=\"convertToInteractive('df-b0747978-b3d1-4201-8da1-18a774cd49b7')\"\n",
              "            title=\"Convert this dataframe to an interactive table.\"\n",
              "            style=\"display:none;\">\n",
              "\n",
              "  <svg xmlns=\"http://www.w3.org/2000/svg\" height=\"24px\" viewBox=\"0 -960 960 960\">\n",
              "    <path d=\"M120-120v-720h720v720H120Zm60-500h600v-160H180v160Zm220 220h160v-160H400v160Zm0 220h160v-160H400v160ZM180-400h160v-160H180v160Zm440 0h160v-160H620v160ZM180-180h160v-160H180v160Zm440 0h160v-160H620v160Z\"/>\n",
              "  </svg>\n",
              "    </button>\n",
              "\n",
              "  <style>\n",
              "    .colab-df-container {\n",
              "      display:flex;\n",
              "      gap: 12px;\n",
              "    }\n",
              "\n",
              "    .colab-df-convert {\n",
              "      background-color: #E8F0FE;\n",
              "      border: none;\n",
              "      border-radius: 50%;\n",
              "      cursor: pointer;\n",
              "      display: none;\n",
              "      fill: #1967D2;\n",
              "      height: 32px;\n",
              "      padding: 0 0 0 0;\n",
              "      width: 32px;\n",
              "    }\n",
              "\n",
              "    .colab-df-convert:hover {\n",
              "      background-color: #E2EBFA;\n",
              "      box-shadow: 0px 1px 2px rgba(60, 64, 67, 0.3), 0px 1px 3px 1px rgba(60, 64, 67, 0.15);\n",
              "      fill: #174EA6;\n",
              "    }\n",
              "\n",
              "    .colab-df-buttons div {\n",
              "      margin-bottom: 4px;\n",
              "    }\n",
              "\n",
              "    [theme=dark] .colab-df-convert {\n",
              "      background-color: #3B4455;\n",
              "      fill: #D2E3FC;\n",
              "    }\n",
              "\n",
              "    [theme=dark] .colab-df-convert:hover {\n",
              "      background-color: #434B5C;\n",
              "      box-shadow: 0px 1px 3px 1px rgba(0, 0, 0, 0.15);\n",
              "      filter: drop-shadow(0px 1px 2px rgba(0, 0, 0, 0.3));\n",
              "      fill: #FFFFFF;\n",
              "    }\n",
              "  </style>\n",
              "\n",
              "    <script>\n",
              "      const buttonEl =\n",
              "        document.querySelector('#df-b0747978-b3d1-4201-8da1-18a774cd49b7 button.colab-df-convert');\n",
              "      buttonEl.style.display =\n",
              "        google.colab.kernel.accessAllowed ? 'block' : 'none';\n",
              "\n",
              "      async function convertToInteractive(key) {\n",
              "        const element = document.querySelector('#df-b0747978-b3d1-4201-8da1-18a774cd49b7');\n",
              "        const dataTable =\n",
              "          await google.colab.kernel.invokeFunction('convertToInteractive',\n",
              "                                                    [key], {});\n",
              "        if (!dataTable) return;\n",
              "\n",
              "        const docLinkHtml = 'Like what you see? Visit the ' +\n",
              "          '<a target=\"_blank\" href=https://colab.research.google.com/notebooks/data_table.ipynb>data table notebook</a>'\n",
              "          + ' to learn more about interactive tables.';\n",
              "        element.innerHTML = '';\n",
              "        dataTable['output_type'] = 'display_data';\n",
              "        await google.colab.output.renderOutput(dataTable, element);\n",
              "        const docLink = document.createElement('div');\n",
              "        docLink.innerHTML = docLinkHtml;\n",
              "        element.appendChild(docLink);\n",
              "      }\n",
              "    </script>\n",
              "  </div>\n",
              "\n",
              "\n",
              "<div id=\"df-5bfba117-efad-4865-b542-577483609a67\">\n",
              "  <button class=\"colab-df-quickchart\" onclick=\"quickchart('df-5bfba117-efad-4865-b542-577483609a67')\"\n",
              "            title=\"Suggest charts\"\n",
              "            style=\"display:none;\">\n",
              "\n",
              "<svg xmlns=\"http://www.w3.org/2000/svg\" height=\"24px\"viewBox=\"0 0 24 24\"\n",
              "     width=\"24px\">\n",
              "    <g>\n",
              "        <path d=\"M19 3H5c-1.1 0-2 .9-2 2v14c0 1.1.9 2 2 2h14c1.1 0 2-.9 2-2V5c0-1.1-.9-2-2-2zM9 17H7v-7h2v7zm4 0h-2V7h2v10zm4 0h-2v-4h2v4z\"/>\n",
              "    </g>\n",
              "</svg>\n",
              "  </button>\n",
              "\n",
              "<style>\n",
              "  .colab-df-quickchart {\n",
              "      --bg-color: #E8F0FE;\n",
              "      --fill-color: #1967D2;\n",
              "      --hover-bg-color: #E2EBFA;\n",
              "      --hover-fill-color: #174EA6;\n",
              "      --disabled-fill-color: #AAA;\n",
              "      --disabled-bg-color: #DDD;\n",
              "  }\n",
              "\n",
              "  [theme=dark] .colab-df-quickchart {\n",
              "      --bg-color: #3B4455;\n",
              "      --fill-color: #D2E3FC;\n",
              "      --hover-bg-color: #434B5C;\n",
              "      --hover-fill-color: #FFFFFF;\n",
              "      --disabled-bg-color: #3B4455;\n",
              "      --disabled-fill-color: #666;\n",
              "  }\n",
              "\n",
              "  .colab-df-quickchart {\n",
              "    background-color: var(--bg-color);\n",
              "    border: none;\n",
              "    border-radius: 50%;\n",
              "    cursor: pointer;\n",
              "    display: none;\n",
              "    fill: var(--fill-color);\n",
              "    height: 32px;\n",
              "    padding: 0;\n",
              "    width: 32px;\n",
              "  }\n",
              "\n",
              "  .colab-df-quickchart:hover {\n",
              "    background-color: var(--hover-bg-color);\n",
              "    box-shadow: 0 1px 2px rgba(60, 64, 67, 0.3), 0 1px 3px 1px rgba(60, 64, 67, 0.15);\n",
              "    fill: var(--button-hover-fill-color);\n",
              "  }\n",
              "\n",
              "  .colab-df-quickchart-complete:disabled,\n",
              "  .colab-df-quickchart-complete:disabled:hover {\n",
              "    background-color: var(--disabled-bg-color);\n",
              "    fill: var(--disabled-fill-color);\n",
              "    box-shadow: none;\n",
              "  }\n",
              "\n",
              "  .colab-df-spinner {\n",
              "    border: 2px solid var(--fill-color);\n",
              "    border-color: transparent;\n",
              "    border-bottom-color: var(--fill-color);\n",
              "    animation:\n",
              "      spin 1s steps(1) infinite;\n",
              "  }\n",
              "\n",
              "  @keyframes spin {\n",
              "    0% {\n",
              "      border-color: transparent;\n",
              "      border-bottom-color: var(--fill-color);\n",
              "      border-left-color: var(--fill-color);\n",
              "    }\n",
              "    20% {\n",
              "      border-color: transparent;\n",
              "      border-left-color: var(--fill-color);\n",
              "      border-top-color: var(--fill-color);\n",
              "    }\n",
              "    30% {\n",
              "      border-color: transparent;\n",
              "      border-left-color: var(--fill-color);\n",
              "      border-top-color: var(--fill-color);\n",
              "      border-right-color: var(--fill-color);\n",
              "    }\n",
              "    40% {\n",
              "      border-color: transparent;\n",
              "      border-right-color: var(--fill-color);\n",
              "      border-top-color: var(--fill-color);\n",
              "    }\n",
              "    60% {\n",
              "      border-color: transparent;\n",
              "      border-right-color: var(--fill-color);\n",
              "    }\n",
              "    80% {\n",
              "      border-color: transparent;\n",
              "      border-right-color: var(--fill-color);\n",
              "      border-bottom-color: var(--fill-color);\n",
              "    }\n",
              "    90% {\n",
              "      border-color: transparent;\n",
              "      border-bottom-color: var(--fill-color);\n",
              "    }\n",
              "  }\n",
              "</style>\n",
              "\n",
              "  <script>\n",
              "    async function quickchart(key) {\n",
              "      const quickchartButtonEl =\n",
              "        document.querySelector('#' + key + ' button');\n",
              "      quickchartButtonEl.disabled = true;  // To prevent multiple clicks.\n",
              "      quickchartButtonEl.classList.add('colab-df-spinner');\n",
              "      try {\n",
              "        const charts = await google.colab.kernel.invokeFunction(\n",
              "            'suggestCharts', [key], {});\n",
              "      } catch (error) {\n",
              "        console.error('Error during call to suggestCharts:', error);\n",
              "      }\n",
              "      quickchartButtonEl.classList.remove('colab-df-spinner');\n",
              "      quickchartButtonEl.classList.add('colab-df-quickchart-complete');\n",
              "    }\n",
              "    (() => {\n",
              "      let quickchartButtonEl =\n",
              "        document.querySelector('#df-5bfba117-efad-4865-b542-577483609a67 button');\n",
              "      quickchartButtonEl.style.display =\n",
              "        google.colab.kernel.accessAllowed ? 'block' : 'none';\n",
              "    })();\n",
              "  </script>\n",
              "</div>\n",
              "    </div>\n",
              "  </div>\n"
            ],
            "text/plain": [
              "               Model     Test RMSE   Test R2\n",
              "0      Decision Tree  1.457826e+06  0.262453\n",
              "1            Bagging  1.119007e+06  0.565445\n",
              "2           Boosting  1.012367e+06  0.644324\n",
              "3  Gradient Boosting  1.095379e+06  0.583603"
            ]
          },
          "execution_count": 8,
          "metadata": {},
          "output_type": "execute_result"
        }
      ],
      "source": [
        "from sklearn.pipeline import Pipeline\n",
        "\n",
        "# Initialize models with a pipeline\n",
        "decision_tree = Pipeline([\n",
        "    ('preprocessor', preprocessor),\n",
        "    ('regressor', DecisionTreeRegressor(random_state=0))\n",
        "])\n",
        "\n",
        "\n",
        "# Initialize an empty DataFrame to store results\n",
        "results_df = pd.DataFrame(columns=['Model','Test RMSE', 'Test R2'])\n",
        "\n",
        "\n",
        "# Fit and evaluate models\n",
        "\n",
        "    # Train the model using the training data\n",
        "\n",
        "\n",
        "    # Predict on test data\n",
        "\n",
        "    # Calculate RMSE and R-squared\n",
        "\n",
        "\n",
        "\n",
        "\n"
      ]
    },
    {
      "cell_type": "markdown",
      "metadata": {
        "id": "JIjGPRJouxj9"
      },
      "source": [
        "3.2 Create figures to show the feature importance for the different models"
      ]
    },
    {
      "cell_type": "code",
      "execution_count": null,
      "metadata": {
        "id": "8TS4NMbXuxj-"
      },
      "outputs": [],
      "source": [
        "import matplotlib.pyplot as plt\n",
        "import numpy as np\n",
        "\n",
        "# Extract feature names after preprocessing\n",
        "\n",
        "def plot_feature_importances(model, name, feature_names, ax):\n",
        "    # Extract the regressor from the pipeline\n",
        "\n",
        "\n",
        "    # Handle BaggingRegressor and get feature importances\n",
        "\n",
        "\n",
        "    # Adjust the feature names if their number doesn't match the importances length\n",
        "\n",
        "        # Handle transformed feature names\n",
        "\n",
        "    # Plot feature importances\n",
        "\n",
        "\n",
        "# Plotting feature importances for each model\n",
        "#fig, axs = plt.subplots(len(models), figsize=(10, 5 * len(models)))\n",
        "#for ax, (name, model) in zip(axs, models.items()):\n",
        "#    plot_feature_importances(model, name, feature_names, ax)\n",
        "\n",
        "#plt.tight_layout()\n",
        "#plt.show()"
      ]
    },
    {
      "cell_type": "markdown",
      "metadata": {
        "id": "LNLVLasluxj-"
      },
      "source": [
        "**Discussion**  \n",
        "**Were the features selected similar across the different models?**"
      ]
    },
    {
      "cell_type": "markdown",
      "metadata": {
        "id": "zv6xLX7QkWdB"
      },
      "source": [
        "3.3 Compare two different approaches for prunning a decision tree (cost-complexity prunning and max leaves nodes) and plot the resulting trees."
      ]
    },
    {
      "cell_type": "code",
      "execution_count": null,
      "metadata": {
        "id": "8WVFpMLDkWdC"
      },
      "outputs": [],
      "source": [
        "from sklearn.tree import DecisionTreeRegressor, plot_tree\n",
        "from sklearn.model_selection import cross_val_score\n",
        "import matplotlib.pyplot as plt\n",
        "from sklearn.metrics import mean_squared_error, r2_score\n",
        "import math\n",
        "\n",
        "# First, fit the preprocessor on X_train\n",
        "#preprocessor.fit(X_train)\n",
        "#X_train_preprocessed = preprocessor.transform(X_train)\n",
        "\n",
        "# Train a decision tree with cost-complexity pruning\n",
        "\n",
        "\n",
        "# Train a decision tree with max leaf nodes\n",
        "\n",
        "\n",
        "# Plot the trees\n",
        "#plt.figure(figsize=(20, 10))\n",
        "#plt.subplot(1, 2, 1)\n",
        "#plot_tree(dt_ccp_pipeline.named_steps['regressor'], filled=True, feature_names=feature_names, rounded=True)\n",
        "#plt.title('Decision Tree with Cost-Complexity Pruning')\n",
        "\n",
        "#plt.subplot(1, 2, 2)\n",
        "#plot_tree(dt_max_leaf_pipeline.named_steps['regressor'], filled=True, feature_names=feature_names, rounded=True)\n",
        "#plt.title('Decision Tree with Max Leaf Nodes')\n",
        "\n",
        "#plt.show()\n",
        "\n",
        "# Evaluate the models\n",
        "#for name, model, in [(\"Cost Complexity Pruning\", dt_ccp_pipeline), (\"Max Leaf Nodes\", dt_max_leaf_pipeline)]:\n",
        "#    y_pred = model.predict(X_test)\n",
        "#    rmse = math.sqrt(mean_squared_error(y_test, y_pred))\n",
        "#    r2 = r2_score(y_test, y_pred)\n",
        " #   results_df.loc[len(results_df)] = [name, rmse, r2]\n",
        "\n",
        "#    print(f\"{name} - Test RMSE: {rmse:.3f}, Test R-squared: {r2:.3f}\")\n",
        "#results_df"
      ]
    },
    {
      "cell_type": "code",
      "execution_count": null,
      "metadata": {
        "id": "ABL60XCry7F2"
      },
      "outputs": [],
      "source": [
        "results_df"
      ]
    },
    {
      "cell_type": "code",
      "execution_count": null,
      "metadata": {
        "id": "8U2B_IuEhXVC"
      },
      "outputs": [],
      "source": []
    }
  ],
  "metadata": {
    "colab": {
      "provenance": []
    },
    "kernelspec": {
      "display_name": "Python 3 (ipykernel)",
      "language": "python",
      "name": "python3"
    },
    "language_info": {
      "codemirror_mode": {
        "name": "ipython",
        "version": 3
      },
      "file_extension": ".py",
      "mimetype": "text/x-python",
      "name": "python",
      "nbconvert_exporter": "python",
      "pygments_lexer": "ipython3",
      "version": "3.10.6"
    },
    "vscode": {
      "interpreter": {
        "hash": "c975486aa82b32d30c2438da9d14334177c2b4d93822b75ed42b1917e361f4e6"
      }
    }
  },
  "nbformat": 4,
  "nbformat_minor": 0
}
