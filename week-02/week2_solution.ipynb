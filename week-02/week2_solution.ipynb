{
  "cells": [
    {
      "cell_type": "markdown",
      "metadata": {
        "id": "4dBGDz813T1S"
      },
      "source": [
        "# COMP0189: Applied Artificial Intelligence\n",
        "## Week 3 (Model Selection and Assessment)\n",
        "\n",
        "### After this week you will be able to ...\n",
        "- encode categorical values with one-hot encoding\n",
        "- know which encoding, scaling, and imputing method you should select in accordacne with the dataset characteristics\n",
        "- impute missing data with KNN\n",
        "- know how to streamline the preprocessing steps in advanced way (Pipeline and ColmnTransformer)\n",
        "- perform model selection using different cross-validation methods\n",
        "- perform model selection and model assessment using different partitions of the data\n",
        "\n",
        "### Acknowledgements\n",
        "- https://scikit-learn.org/stable/\n",
        "- https://archive.ics.uci.edu/ml/datasets/adult"
      ]
    },
    {
      "cell_type": "code",
      "execution_count": 1,
      "metadata": {
        "id": "4zs3aDLr3T1U"
      },
      "outputs": [],
      "source": [
        "import numpy as np\n",
        "import pandas as pd\n",
        "import matplotlib.pyplot as plt"
      ]
    },
    {
      "cell_type": "markdown",
      "metadata": {
        "id": "wO-p9am_3T1U"
      },
      "source": [
        "## Part 1: Encoding and Imputations"
      ]
    },
    {
      "cell_type": "markdown",
      "metadata": {
        "id": "Jafyf6di3T1U"
      },
      "source": [
        "### Task 1: Load and Split the Dataset into train and test"
      ]
    },
    {
      "cell_type": "code",
      "execution_count": 2,
      "metadata": {
        "colab": {
          "base_uri": "https://localhost:8080/",
          "height": 555
        },
        "id": "ve7h01Bx3T1U",
        "outputId": "2db4aeb9-f1cf-4ef7-a9b4-81b82bf9d8bd",
        "scrolled": false
      },
      "outputs": [
        {
          "data": {
            "text/html": [
              "<div>\n",
              "<style scoped>\n",
              "    .dataframe tbody tr th:only-of-type {\n",
              "        vertical-align: middle;\n",
              "    }\n",
              "\n",
              "    .dataframe tbody tr th {\n",
              "        vertical-align: top;\n",
              "    }\n",
              "\n",
              "    .dataframe thead th {\n",
              "        text-align: right;\n",
              "    }\n",
              "</style>\n",
              "<table border=\"1\" class=\"dataframe\">\n",
              "  <thead>\n",
              "    <tr style=\"text-align: right;\">\n",
              "      <th></th>\n",
              "      <th>Age</th>\n",
              "      <th>Workclass</th>\n",
              "      <th>Fnlwgt</th>\n",
              "      <th>Education</th>\n",
              "      <th>Education-num</th>\n",
              "      <th>Marital-status</th>\n",
              "      <th>Occupation</th>\n",
              "      <th>Relationship</th>\n",
              "      <th>Race</th>\n",
              "      <th>Sex</th>\n",
              "      <th>Capital-gain</th>\n",
              "      <th>Capital-loss</th>\n",
              "      <th>Hours-per-week</th>\n",
              "      <th>Native-country</th>\n",
              "      <th>Y</th>\n",
              "    </tr>\n",
              "  </thead>\n",
              "  <tbody>\n",
              "    <tr>\n",
              "      <th>0</th>\n",
              "      <td>39</td>\n",
              "      <td>State-gov</td>\n",
              "      <td>77516</td>\n",
              "      <td>Bachelors</td>\n",
              "      <td>13</td>\n",
              "      <td>Never-married</td>\n",
              "      <td>Adm-clerical</td>\n",
              "      <td>Not-in-family</td>\n",
              "      <td>White</td>\n",
              "      <td>Male</td>\n",
              "      <td>2174</td>\n",
              "      <td>0</td>\n",
              "      <td>40</td>\n",
              "      <td>United-States</td>\n",
              "      <td>&lt;=50K</td>\n",
              "    </tr>\n",
              "    <tr>\n",
              "      <th>1</th>\n",
              "      <td>50</td>\n",
              "      <td>Self-emp-not-inc</td>\n",
              "      <td>83311</td>\n",
              "      <td>Bachelors</td>\n",
              "      <td>13</td>\n",
              "      <td>Married-civ-spouse</td>\n",
              "      <td>Exec-managerial</td>\n",
              "      <td>Husband</td>\n",
              "      <td>White</td>\n",
              "      <td>Male</td>\n",
              "      <td>0</td>\n",
              "      <td>0</td>\n",
              "      <td>13</td>\n",
              "      <td>United-States</td>\n",
              "      <td>&lt;=50K</td>\n",
              "    </tr>\n",
              "    <tr>\n",
              "      <th>2</th>\n",
              "      <td>38</td>\n",
              "      <td>Private</td>\n",
              "      <td>215646</td>\n",
              "      <td>HS-grad</td>\n",
              "      <td>9</td>\n",
              "      <td>Divorced</td>\n",
              "      <td>Handlers-cleaners</td>\n",
              "      <td>Not-in-family</td>\n",
              "      <td>White</td>\n",
              "      <td>Male</td>\n",
              "      <td>0</td>\n",
              "      <td>0</td>\n",
              "      <td>40</td>\n",
              "      <td>United-States</td>\n",
              "      <td>&lt;=50K</td>\n",
              "    </tr>\n",
              "    <tr>\n",
              "      <th>3</th>\n",
              "      <td>53</td>\n",
              "      <td>Private</td>\n",
              "      <td>234721</td>\n",
              "      <td>11th</td>\n",
              "      <td>7</td>\n",
              "      <td>Married-civ-spouse</td>\n",
              "      <td>Handlers-cleaners</td>\n",
              "      <td>Husband</td>\n",
              "      <td>Black</td>\n",
              "      <td>Male</td>\n",
              "      <td>0</td>\n",
              "      <td>0</td>\n",
              "      <td>40</td>\n",
              "      <td>United-States</td>\n",
              "      <td>&lt;=50K</td>\n",
              "    </tr>\n",
              "    <tr>\n",
              "      <th>4</th>\n",
              "      <td>28</td>\n",
              "      <td>Private</td>\n",
              "      <td>338409</td>\n",
              "      <td>Bachelors</td>\n",
              "      <td>13</td>\n",
              "      <td>Married-civ-spouse</td>\n",
              "      <td>Prof-specialty</td>\n",
              "      <td>Wife</td>\n",
              "      <td>Black</td>\n",
              "      <td>Female</td>\n",
              "      <td>0</td>\n",
              "      <td>0</td>\n",
              "      <td>40</td>\n",
              "      <td>Cuba</td>\n",
              "      <td>&lt;=50K</td>\n",
              "    </tr>\n",
              "    <tr>\n",
              "      <th>...</th>\n",
              "      <td>...</td>\n",
              "      <td>...</td>\n",
              "      <td>...</td>\n",
              "      <td>...</td>\n",
              "      <td>...</td>\n",
              "      <td>...</td>\n",
              "      <td>...</td>\n",
              "      <td>...</td>\n",
              "      <td>...</td>\n",
              "      <td>...</td>\n",
              "      <td>...</td>\n",
              "      <td>...</td>\n",
              "      <td>...</td>\n",
              "      <td>...</td>\n",
              "      <td>...</td>\n",
              "    </tr>\n",
              "    <tr>\n",
              "      <th>32556</th>\n",
              "      <td>27</td>\n",
              "      <td>Private</td>\n",
              "      <td>257302</td>\n",
              "      <td>Assoc-acdm</td>\n",
              "      <td>12</td>\n",
              "      <td>Married-civ-spouse</td>\n",
              "      <td>Tech-support</td>\n",
              "      <td>Wife</td>\n",
              "      <td>White</td>\n",
              "      <td>Female</td>\n",
              "      <td>0</td>\n",
              "      <td>0</td>\n",
              "      <td>38</td>\n",
              "      <td>United-States</td>\n",
              "      <td>&lt;=50K</td>\n",
              "    </tr>\n",
              "    <tr>\n",
              "      <th>32557</th>\n",
              "      <td>40</td>\n",
              "      <td>Private</td>\n",
              "      <td>154374</td>\n",
              "      <td>HS-grad</td>\n",
              "      <td>9</td>\n",
              "      <td>Married-civ-spouse</td>\n",
              "      <td>Machine-op-inspct</td>\n",
              "      <td>Husband</td>\n",
              "      <td>White</td>\n",
              "      <td>Male</td>\n",
              "      <td>0</td>\n",
              "      <td>0</td>\n",
              "      <td>40</td>\n",
              "      <td>United-States</td>\n",
              "      <td>&gt;50K</td>\n",
              "    </tr>\n",
              "    <tr>\n",
              "      <th>32558</th>\n",
              "      <td>58</td>\n",
              "      <td>Private</td>\n",
              "      <td>151910</td>\n",
              "      <td>HS-grad</td>\n",
              "      <td>9</td>\n",
              "      <td>Widowed</td>\n",
              "      <td>Adm-clerical</td>\n",
              "      <td>Unmarried</td>\n",
              "      <td>White</td>\n",
              "      <td>Female</td>\n",
              "      <td>0</td>\n",
              "      <td>0</td>\n",
              "      <td>40</td>\n",
              "      <td>United-States</td>\n",
              "      <td>&lt;=50K</td>\n",
              "    </tr>\n",
              "    <tr>\n",
              "      <th>32559</th>\n",
              "      <td>22</td>\n",
              "      <td>Private</td>\n",
              "      <td>201490</td>\n",
              "      <td>HS-grad</td>\n",
              "      <td>9</td>\n",
              "      <td>Never-married</td>\n",
              "      <td>Adm-clerical</td>\n",
              "      <td>Own-child</td>\n",
              "      <td>White</td>\n",
              "      <td>Male</td>\n",
              "      <td>0</td>\n",
              "      <td>0</td>\n",
              "      <td>20</td>\n",
              "      <td>United-States</td>\n",
              "      <td>&lt;=50K</td>\n",
              "    </tr>\n",
              "    <tr>\n",
              "      <th>32560</th>\n",
              "      <td>52</td>\n",
              "      <td>Self-emp-inc</td>\n",
              "      <td>287927</td>\n",
              "      <td>HS-grad</td>\n",
              "      <td>9</td>\n",
              "      <td>Married-civ-spouse</td>\n",
              "      <td>Exec-managerial</td>\n",
              "      <td>Wife</td>\n",
              "      <td>White</td>\n",
              "      <td>Female</td>\n",
              "      <td>15024</td>\n",
              "      <td>0</td>\n",
              "      <td>40</td>\n",
              "      <td>United-States</td>\n",
              "      <td>&gt;50K</td>\n",
              "    </tr>\n",
              "  </tbody>\n",
              "</table>\n",
              "<p>32561 rows × 15 columns</p>\n",
              "</div>"
            ],
            "text/plain": [
              "       Age         Workclass  Fnlwgt   Education  Education-num  \\\n",
              "0       39         State-gov   77516   Bachelors             13   \n",
              "1       50  Self-emp-not-inc   83311   Bachelors             13   \n",
              "2       38           Private  215646     HS-grad              9   \n",
              "3       53           Private  234721        11th              7   \n",
              "4       28           Private  338409   Bachelors             13   \n",
              "...    ...               ...     ...         ...            ...   \n",
              "32556   27           Private  257302  Assoc-acdm             12   \n",
              "32557   40           Private  154374     HS-grad              9   \n",
              "32558   58           Private  151910     HS-grad              9   \n",
              "32559   22           Private  201490     HS-grad              9   \n",
              "32560   52      Self-emp-inc  287927     HS-grad              9   \n",
              "\n",
              "           Marital-status         Occupation   Relationship    Race     Sex  \\\n",
              "0           Never-married       Adm-clerical  Not-in-family   White    Male   \n",
              "1      Married-civ-spouse    Exec-managerial        Husband   White    Male   \n",
              "2                Divorced  Handlers-cleaners  Not-in-family   White    Male   \n",
              "3      Married-civ-spouse  Handlers-cleaners        Husband   Black    Male   \n",
              "4      Married-civ-spouse     Prof-specialty           Wife   Black  Female   \n",
              "...                   ...                ...            ...     ...     ...   \n",
              "32556  Married-civ-spouse       Tech-support           Wife   White  Female   \n",
              "32557  Married-civ-spouse  Machine-op-inspct        Husband   White    Male   \n",
              "32558             Widowed       Adm-clerical      Unmarried   White  Female   \n",
              "32559       Never-married       Adm-clerical      Own-child   White    Male   \n",
              "32560  Married-civ-spouse    Exec-managerial           Wife   White  Female   \n",
              "\n",
              "       Capital-gain  Capital-loss  Hours-per-week Native-country      Y  \n",
              "0              2174             0              40  United-States  <=50K  \n",
              "1                 0             0              13  United-States  <=50K  \n",
              "2                 0             0              40  United-States  <=50K  \n",
              "3                 0             0              40  United-States  <=50K  \n",
              "4                 0             0              40           Cuba  <=50K  \n",
              "...             ...           ...             ...            ...    ...  \n",
              "32556             0             0              38  United-States  <=50K  \n",
              "32557             0             0              40  United-States   >50K  \n",
              "32558             0             0              40  United-States  <=50K  \n",
              "32559             0             0              20  United-States  <=50K  \n",
              "32560         15024             0              40  United-States   >50K  \n",
              "\n",
              "[32561 rows x 15 columns]"
            ]
          },
          "execution_count": 2,
          "metadata": {},
          "output_type": "execute_result"
        }
      ],
      "source": [
        "# TASK 1: Load Dataset\n",
        "# We are going to use the same adult dataset as previous week.\n",
        "# We have cleaned the dataset, but did not touch the missing values.\n",
        "from sklearn.model_selection import train_test_split\n",
        "df = pd.read_csv(\"clean_adult.csv\")\n",
        "df"
      ]
    },
    {
      "cell_type": "code",
      "execution_count": 3,
      "metadata": {
        "colab": {
          "base_uri": "https://localhost:8080/"
        },
        "id": "oYI3s3h23T1U",
        "outputId": "328598be-2b72-4fde-ccd7-ec62aebc70bb"
      },
      "outputs": [
        {
          "data": {
            "text/plain": [
              "[1, 2, 3, 4, 5, 6, 7, 8, 9, 10, 11, 12, 13, 14, 15, 16]"
            ]
          },
          "execution_count": 3,
          "metadata": {},
          "output_type": "execute_result"
        }
      ],
      "source": [
        "sorted(list(df[\"Education-num\"].unique()))"
      ]
    },
    {
      "cell_type": "code",
      "execution_count": 4,
      "metadata": {
        "colab": {
          "base_uri": "https://localhost:8080/"
        },
        "id": "-d4FtnmS3T1U",
        "outputId": "fe13ff70-ddfe-4ad6-fe3e-f26bbc66a797"
      },
      "outputs": [
        {
          "data": {
            "text/plain": [
              "16"
            ]
          },
          "execution_count": 4,
          "metadata": {},
          "output_type": "execute_result"
        }
      ],
      "source": [
        "len(df[\"Education\"].unique())"
      ]
    },
    {
      "cell_type": "code",
      "execution_count": 5,
      "metadata": {
        "colab": {
          "base_uri": "https://localhost:8080/"
        },
        "id": "J1t0T3d53T1U",
        "outputId": "1d5137e8-3b3b-48fa-d36c-04743b3bc3d7"
      },
      "outputs": [
        {
          "data": {
            "text/plain": [
              "{'Bachelors': 13,\n",
              " 'HS-grad': 9,\n",
              " '11th': 7,\n",
              " 'Masters': 14,\n",
              " '9th': 5,\n",
              " 'Some-college': 10,\n",
              " 'Assoc-acdm': 12,\n",
              " 'Assoc-voc': 11,\n",
              " '7th-8th': 4,\n",
              " 'Doctorate': 16,\n",
              " 'Prof-school': 15,\n",
              " '5th-6th': 3,\n",
              " '10th': 6,\n",
              " '1st-4th': 2,\n",
              " 'Preschool': 1,\n",
              " '12th': 8}"
            ]
          },
          "execution_count": 5,
          "metadata": {},
          "output_type": "execute_result"
        }
      ],
      "source": [
        "# We can see that Education-num is just a label-encoded feature of Education\n",
        "edu_map = {}\n",
        "for i, row in df[[\"Education\", \"Education-num\"]].iterrows():\n",
        "    education = row[\"Education\"]\n",
        "    edu_num = row[\"Education-num\"]\n",
        "\n",
        "    if education not in edu_map:\n",
        "        edu_map.update({education: edu_num})\n",
        "    else:\n",
        "        assert edu_map[education] == edu_num\n",
        "edu_map"
      ]
    },
    {
      "cell_type": "code",
      "execution_count": 6,
      "metadata": {
        "colab": {
          "base_uri": "https://localhost:8080/",
          "height": 555
        },
        "id": "7fPvU-vc3T1U",
        "outputId": "296ef2d2-50c3-4461-b336-c613911f77b5"
      },
      "outputs": [
        {
          "data": {
            "text/html": [
              "<div>\n",
              "<style scoped>\n",
              "    .dataframe tbody tr th:only-of-type {\n",
              "        vertical-align: middle;\n",
              "    }\n",
              "\n",
              "    .dataframe tbody tr th {\n",
              "        vertical-align: top;\n",
              "    }\n",
              "\n",
              "    .dataframe thead th {\n",
              "        text-align: right;\n",
              "    }\n",
              "</style>\n",
              "<table border=\"1\" class=\"dataframe\">\n",
              "  <thead>\n",
              "    <tr style=\"text-align: right;\">\n",
              "      <th></th>\n",
              "      <th>Age</th>\n",
              "      <th>Workclass</th>\n",
              "      <th>Fnlwgt</th>\n",
              "      <th>Education-num</th>\n",
              "      <th>Marital-status</th>\n",
              "      <th>Occupation</th>\n",
              "      <th>Relationship</th>\n",
              "      <th>Race</th>\n",
              "      <th>Sex</th>\n",
              "      <th>Capital-gain</th>\n",
              "      <th>Capital-loss</th>\n",
              "      <th>Hours-per-week</th>\n",
              "      <th>Native-country</th>\n",
              "      <th>Y</th>\n",
              "    </tr>\n",
              "  </thead>\n",
              "  <tbody>\n",
              "    <tr>\n",
              "      <th>0</th>\n",
              "      <td>39</td>\n",
              "      <td>State-gov</td>\n",
              "      <td>77516</td>\n",
              "      <td>13</td>\n",
              "      <td>Never-married</td>\n",
              "      <td>Adm-clerical</td>\n",
              "      <td>Not-in-family</td>\n",
              "      <td>White</td>\n",
              "      <td>Male</td>\n",
              "      <td>2174</td>\n",
              "      <td>0</td>\n",
              "      <td>40</td>\n",
              "      <td>United-States</td>\n",
              "      <td>&lt;=50K</td>\n",
              "    </tr>\n",
              "    <tr>\n",
              "      <th>1</th>\n",
              "      <td>50</td>\n",
              "      <td>Self-emp-not-inc</td>\n",
              "      <td>83311</td>\n",
              "      <td>13</td>\n",
              "      <td>Married-civ-spouse</td>\n",
              "      <td>Exec-managerial</td>\n",
              "      <td>Husband</td>\n",
              "      <td>White</td>\n",
              "      <td>Male</td>\n",
              "      <td>0</td>\n",
              "      <td>0</td>\n",
              "      <td>13</td>\n",
              "      <td>United-States</td>\n",
              "      <td>&lt;=50K</td>\n",
              "    </tr>\n",
              "    <tr>\n",
              "      <th>2</th>\n",
              "      <td>38</td>\n",
              "      <td>Private</td>\n",
              "      <td>215646</td>\n",
              "      <td>9</td>\n",
              "      <td>Divorced</td>\n",
              "      <td>Handlers-cleaners</td>\n",
              "      <td>Not-in-family</td>\n",
              "      <td>White</td>\n",
              "      <td>Male</td>\n",
              "      <td>0</td>\n",
              "      <td>0</td>\n",
              "      <td>40</td>\n",
              "      <td>United-States</td>\n",
              "      <td>&lt;=50K</td>\n",
              "    </tr>\n",
              "    <tr>\n",
              "      <th>3</th>\n",
              "      <td>53</td>\n",
              "      <td>Private</td>\n",
              "      <td>234721</td>\n",
              "      <td>7</td>\n",
              "      <td>Married-civ-spouse</td>\n",
              "      <td>Handlers-cleaners</td>\n",
              "      <td>Husband</td>\n",
              "      <td>Black</td>\n",
              "      <td>Male</td>\n",
              "      <td>0</td>\n",
              "      <td>0</td>\n",
              "      <td>40</td>\n",
              "      <td>United-States</td>\n",
              "      <td>&lt;=50K</td>\n",
              "    </tr>\n",
              "    <tr>\n",
              "      <th>4</th>\n",
              "      <td>28</td>\n",
              "      <td>Private</td>\n",
              "      <td>338409</td>\n",
              "      <td>13</td>\n",
              "      <td>Married-civ-spouse</td>\n",
              "      <td>Prof-specialty</td>\n",
              "      <td>Wife</td>\n",
              "      <td>Black</td>\n",
              "      <td>Female</td>\n",
              "      <td>0</td>\n",
              "      <td>0</td>\n",
              "      <td>40</td>\n",
              "      <td>Cuba</td>\n",
              "      <td>&lt;=50K</td>\n",
              "    </tr>\n",
              "    <tr>\n",
              "      <th>...</th>\n",
              "      <td>...</td>\n",
              "      <td>...</td>\n",
              "      <td>...</td>\n",
              "      <td>...</td>\n",
              "      <td>...</td>\n",
              "      <td>...</td>\n",
              "      <td>...</td>\n",
              "      <td>...</td>\n",
              "      <td>...</td>\n",
              "      <td>...</td>\n",
              "      <td>...</td>\n",
              "      <td>...</td>\n",
              "      <td>...</td>\n",
              "      <td>...</td>\n",
              "    </tr>\n",
              "    <tr>\n",
              "      <th>32556</th>\n",
              "      <td>27</td>\n",
              "      <td>Private</td>\n",
              "      <td>257302</td>\n",
              "      <td>12</td>\n",
              "      <td>Married-civ-spouse</td>\n",
              "      <td>Tech-support</td>\n",
              "      <td>Wife</td>\n",
              "      <td>White</td>\n",
              "      <td>Female</td>\n",
              "      <td>0</td>\n",
              "      <td>0</td>\n",
              "      <td>38</td>\n",
              "      <td>United-States</td>\n",
              "      <td>&lt;=50K</td>\n",
              "    </tr>\n",
              "    <tr>\n",
              "      <th>32557</th>\n",
              "      <td>40</td>\n",
              "      <td>Private</td>\n",
              "      <td>154374</td>\n",
              "      <td>9</td>\n",
              "      <td>Married-civ-spouse</td>\n",
              "      <td>Machine-op-inspct</td>\n",
              "      <td>Husband</td>\n",
              "      <td>White</td>\n",
              "      <td>Male</td>\n",
              "      <td>0</td>\n",
              "      <td>0</td>\n",
              "      <td>40</td>\n",
              "      <td>United-States</td>\n",
              "      <td>&gt;50K</td>\n",
              "    </tr>\n",
              "    <tr>\n",
              "      <th>32558</th>\n",
              "      <td>58</td>\n",
              "      <td>Private</td>\n",
              "      <td>151910</td>\n",
              "      <td>9</td>\n",
              "      <td>Widowed</td>\n",
              "      <td>Adm-clerical</td>\n",
              "      <td>Unmarried</td>\n",
              "      <td>White</td>\n",
              "      <td>Female</td>\n",
              "      <td>0</td>\n",
              "      <td>0</td>\n",
              "      <td>40</td>\n",
              "      <td>United-States</td>\n",
              "      <td>&lt;=50K</td>\n",
              "    </tr>\n",
              "    <tr>\n",
              "      <th>32559</th>\n",
              "      <td>22</td>\n",
              "      <td>Private</td>\n",
              "      <td>201490</td>\n",
              "      <td>9</td>\n",
              "      <td>Never-married</td>\n",
              "      <td>Adm-clerical</td>\n",
              "      <td>Own-child</td>\n",
              "      <td>White</td>\n",
              "      <td>Male</td>\n",
              "      <td>0</td>\n",
              "      <td>0</td>\n",
              "      <td>20</td>\n",
              "      <td>United-States</td>\n",
              "      <td>&lt;=50K</td>\n",
              "    </tr>\n",
              "    <tr>\n",
              "      <th>32560</th>\n",
              "      <td>52</td>\n",
              "      <td>Self-emp-inc</td>\n",
              "      <td>287927</td>\n",
              "      <td>9</td>\n",
              "      <td>Married-civ-spouse</td>\n",
              "      <td>Exec-managerial</td>\n",
              "      <td>Wife</td>\n",
              "      <td>White</td>\n",
              "      <td>Female</td>\n",
              "      <td>15024</td>\n",
              "      <td>0</td>\n",
              "      <td>40</td>\n",
              "      <td>United-States</td>\n",
              "      <td>&gt;50K</td>\n",
              "    </tr>\n",
              "  </tbody>\n",
              "</table>\n",
              "<p>32561 rows × 14 columns</p>\n",
              "</div>"
            ],
            "text/plain": [
              "       Age         Workclass  Fnlwgt  Education-num      Marital-status  \\\n",
              "0       39         State-gov   77516             13       Never-married   \n",
              "1       50  Self-emp-not-inc   83311             13  Married-civ-spouse   \n",
              "2       38           Private  215646              9            Divorced   \n",
              "3       53           Private  234721              7  Married-civ-spouse   \n",
              "4       28           Private  338409             13  Married-civ-spouse   \n",
              "...    ...               ...     ...            ...                 ...   \n",
              "32556   27           Private  257302             12  Married-civ-spouse   \n",
              "32557   40           Private  154374              9  Married-civ-spouse   \n",
              "32558   58           Private  151910              9             Widowed   \n",
              "32559   22           Private  201490              9       Never-married   \n",
              "32560   52      Self-emp-inc  287927              9  Married-civ-spouse   \n",
              "\n",
              "              Occupation   Relationship    Race     Sex  Capital-gain  \\\n",
              "0           Adm-clerical  Not-in-family   White    Male          2174   \n",
              "1        Exec-managerial        Husband   White    Male             0   \n",
              "2      Handlers-cleaners  Not-in-family   White    Male             0   \n",
              "3      Handlers-cleaners        Husband   Black    Male             0   \n",
              "4         Prof-specialty           Wife   Black  Female             0   \n",
              "...                  ...            ...     ...     ...           ...   \n",
              "32556       Tech-support           Wife   White  Female             0   \n",
              "32557  Machine-op-inspct        Husband   White    Male             0   \n",
              "32558       Adm-clerical      Unmarried   White  Female             0   \n",
              "32559       Adm-clerical      Own-child   White    Male             0   \n",
              "32560    Exec-managerial           Wife   White  Female         15024   \n",
              "\n",
              "       Capital-loss  Hours-per-week Native-country      Y  \n",
              "0                 0              40  United-States  <=50K  \n",
              "1                 0              13  United-States  <=50K  \n",
              "2                 0              40  United-States  <=50K  \n",
              "3                 0              40  United-States  <=50K  \n",
              "4                 0              40           Cuba  <=50K  \n",
              "...             ...             ...            ...    ...  \n",
              "32556             0              38  United-States  <=50K  \n",
              "32557             0              40  United-States   >50K  \n",
              "32558             0              40  United-States  <=50K  \n",
              "32559             0              20  United-States  <=50K  \n",
              "32560             0              40  United-States   >50K  \n",
              "\n",
              "[32561 rows x 14 columns]"
            ]
          },
          "execution_count": 6,
          "metadata": {},
          "output_type": "execute_result"
        }
      ],
      "source": [
        "# let's just drop Education column as we don't need it if we have Education-num\n",
        "df = df.drop([\"Education\"], axis=1)\n",
        "df"
      ]
    },
    {
      "cell_type": "code",
      "execution_count": 7,
      "metadata": {
        "id": "VSbq3-xG3T1U"
      },
      "outputs": [],
      "source": [
        "def train_test_split_df(df, test_ratio=0.1, target_col=\"Y\"):\n",
        "    df_data = df.drop([target_col], axis=1)\n",
        "    df_target = df[target_col]\n",
        "\n",
        "    split_index = int(len(df) * (1 - test_ratio))\n",
        "    print(f\"Splitting from index {split_index}\")\n",
        "\n",
        "    train_X_df = df_data[:split_index]\n",
        "    test_X_df = df_data[split_index:]\n",
        "    train_y_df = df_target[:split_index]\n",
        "    test_y_df = df_target[split_index:]\n",
        "\n",
        "    train_y_df = np.where(train_y_df == \">50K\", 1, 0)\n",
        "    test_y_df = np.where(test_y_df == \">50K\", 1, 0)\n",
        "\n",
        "    return train_X_df, train_y_df, test_X_df, test_y_df"
      ]
    },
    {
      "cell_type": "code",
      "execution_count": 8,
      "metadata": {
        "colab": {
          "base_uri": "https://localhost:8080/"
        },
        "id": "HvzD_Aek3T1U",
        "outputId": "eb0cd317-9829-44b7-a792-80016fef675f"
      },
      "outputs": [
        {
          "name": "stdout",
          "output_type": "stream",
          "text": [
            "Splitting from index 29304\n"
          ]
        }
      ],
      "source": [
        "# Splitting dataset into train and test\n",
        "train_X_df, train_y_df, test_X_df, test_y_df = train_test_split_df(df)"
      ]
    },
    {
      "cell_type": "code",
      "execution_count": 9,
      "metadata": {
        "id": "FO_J1lVE3T1U"
      },
      "outputs": [],
      "source": [
        "# Just for educational purpose:\n",
        "# For this dataset split, you can see that\n",
        "# all the unique values of categorical features in test set are subset of that in train set.\n",
        "# However, we shouldn't expect this, thus need to deal with this situation (dealt in later cells).\n",
        "for col in train_X_df:\n",
        "    # Skips for the non-categorical values\n",
        "    if col in [\n",
        "        \"Age\",\n",
        "        \"Fnlwgt\",\n",
        "        \"Capital-gain\",\n",
        "        \"Capital-loss\",\n",
        "        \"Hours-per-week\",\n",
        "    ]:\n",
        "        continue\n",
        "    train_uniq_vals = train_X_df[col].unique()\n",
        "    test_uniq_vals = test_X_df[col].unique()\n",
        "\n",
        "    if not set(test_uniq_vals).issubset(set(train_uniq_vals)):\n",
        "        print(col)\n",
        "        print(set(test_uniq_vals))\n",
        "        print(set(train_uniq_vals))"
      ]
    },
    {
      "cell_type": "markdown",
      "metadata": {
        "id": "JsLy5kau3T1U"
      },
      "source": [
        "### Task 2: Encode categorical variables (label/ordinal encoding & one-hot encoding)"
      ]
    },
    {
      "cell_type": "markdown",
      "metadata": {
        "id": "bwd_77To3T1U"
      },
      "source": [
        "### Important: We need special care when we are encoding categorical variables\n",
        "\n",
        "**1. Take care of the missing values**\n",
        "- Beware not to encode missing values unless you are intending to do so.\n",
        "- Sometimes you want to encode missing values to a separate cateogory. For example, when you want to predict if passengers of titanic had survived or not, missing data of certain features can actually have meaning, i.e., Cabin information can be missing because the body was not found.\n",
        "\n",
        "**2. Know which encoding and scaling method you should select**\n",
        "- If your categories are ordinal, then it makes sense to use a LabelEncoder with a MinMaxScaler. For example, you can encode [low, medium, high], as [1,2,3], i.e., distance between low to high is larger than that of medium and high.\n",
        "\n",
        "- However, if you have non-ordinal categorical values, like [White, Hispanic, Black, Asian], then it would be better to use a OneHotEncoder instead of forcing ordinality with a LabelEncoder. Otherwise the algorithms you use (especially distance based algorithms like KNN) will make the assumption that the distance between White and Asian is larger than White and Hispanic, which is nonsensical.\n",
        "\n",
        "**3. Split before you encode to avoid data leakage**\n",
        "- Split the dataset before you encode your data. It is natural for algorithms to see unknown values in the validation/test set that was not appearing in the train set. `sklearn.preprocessing.OneHotEncoder` is good at handling these unknown categories (`handle_unknown` parameter).\n",
        "\n",
        "- Discussion: What if you are certain about all the possible categories that can appear for each feature? Can you encode all the values before splitting the dataset into train and test set?\n",
        "\n",
        "\n",
        "This notebook shows the three points in the following sections with examples."
      ]
    },
    {
      "cell_type": "markdown",
      "metadata": {
        "id": "HJ55CYB03T1U"
      },
      "source": [
        "### Task 2-1: Label Encoding (with missing values)"
      ]
    },
    {
      "cell_type": "code",
      "execution_count": 10,
      "metadata": {
        "id": "ldCwrFlm3T1V"
      },
      "outputs": [],
      "source": [
        "from sklearn.preprocessing import LabelEncoder, OrdinalEncoder, OneHotEncoder\n",
        "\n",
        "label_encoder = LabelEncoder()"
      ]
    },
    {
      "cell_type": "code",
      "execution_count": 11,
      "metadata": {
        "colab": {
          "base_uri": "https://localhost:8080/"
        },
        "id": "8IKoTbPf3T1V",
        "outputId": "18bfcaba-ae6d-4142-8ce9-6c162dc4c148"
      },
      "outputs": [
        {
          "data": {
            "text/plain": [
              "Age                  0\n",
              "Workclass         1638\n",
              "Fnlwgt               0\n",
              "Education-num        0\n",
              "Marital-status       0\n",
              "Occupation        1643\n",
              "Relationship         0\n",
              "Race                 0\n",
              "Sex                  0\n",
              "Capital-gain         0\n",
              "Capital-loss         0\n",
              "Hours-per-week       0\n",
              "Native-country     525\n",
              "dtype: int64"
            ]
          },
          "execution_count": 11,
          "metadata": {},
          "output_type": "execute_result"
        }
      ],
      "source": [
        "train_X_df.isnull().sum()"
      ]
    },
    {
      "cell_type": "code",
      "execution_count": 12,
      "metadata": {
        "colab": {
          "base_uri": "https://localhost:8080/",
          "height": 538
        },
        "id": "TOVgqBCM3T1V",
        "outputId": "b64fce37-05dc-476d-db1f-56358fdf633c"
      },
      "outputs": [
        {
          "data": {
            "text/html": [
              "<div>\n",
              "<style scoped>\n",
              "    .dataframe tbody tr th:only-of-type {\n",
              "        vertical-align: middle;\n",
              "    }\n",
              "\n",
              "    .dataframe tbody tr th {\n",
              "        vertical-align: top;\n",
              "    }\n",
              "\n",
              "    .dataframe thead th {\n",
              "        text-align: right;\n",
              "    }\n",
              "</style>\n",
              "<table border=\"1\" class=\"dataframe\">\n",
              "  <thead>\n",
              "    <tr style=\"text-align: right;\">\n",
              "      <th></th>\n",
              "      <th>Age</th>\n",
              "      <th>Workclass</th>\n",
              "      <th>Fnlwgt</th>\n",
              "      <th>Education-num</th>\n",
              "      <th>Marital-status</th>\n",
              "      <th>Occupation</th>\n",
              "      <th>Relationship</th>\n",
              "      <th>Race</th>\n",
              "      <th>Sex</th>\n",
              "      <th>Capital-gain</th>\n",
              "      <th>Capital-loss</th>\n",
              "      <th>Hours-per-week</th>\n",
              "      <th>Native-country</th>\n",
              "    </tr>\n",
              "  </thead>\n",
              "  <tbody>\n",
              "    <tr>\n",
              "      <th>0</th>\n",
              "      <td>39</td>\n",
              "      <td>State-gov</td>\n",
              "      <td>77516</td>\n",
              "      <td>13</td>\n",
              "      <td>Never-married</td>\n",
              "      <td>Adm-clerical</td>\n",
              "      <td>Not-in-family</td>\n",
              "      <td>White</td>\n",
              "      <td>1</td>\n",
              "      <td>2174</td>\n",
              "      <td>0</td>\n",
              "      <td>40</td>\n",
              "      <td>United-States</td>\n",
              "    </tr>\n",
              "    <tr>\n",
              "      <th>1</th>\n",
              "      <td>50</td>\n",
              "      <td>Self-emp-not-inc</td>\n",
              "      <td>83311</td>\n",
              "      <td>13</td>\n",
              "      <td>Married-civ-spouse</td>\n",
              "      <td>Exec-managerial</td>\n",
              "      <td>Husband</td>\n",
              "      <td>White</td>\n",
              "      <td>1</td>\n",
              "      <td>0</td>\n",
              "      <td>0</td>\n",
              "      <td>13</td>\n",
              "      <td>United-States</td>\n",
              "    </tr>\n",
              "    <tr>\n",
              "      <th>2</th>\n",
              "      <td>38</td>\n",
              "      <td>Private</td>\n",
              "      <td>215646</td>\n",
              "      <td>9</td>\n",
              "      <td>Divorced</td>\n",
              "      <td>Handlers-cleaners</td>\n",
              "      <td>Not-in-family</td>\n",
              "      <td>White</td>\n",
              "      <td>1</td>\n",
              "      <td>0</td>\n",
              "      <td>0</td>\n",
              "      <td>40</td>\n",
              "      <td>United-States</td>\n",
              "    </tr>\n",
              "    <tr>\n",
              "      <th>3</th>\n",
              "      <td>53</td>\n",
              "      <td>Private</td>\n",
              "      <td>234721</td>\n",
              "      <td>7</td>\n",
              "      <td>Married-civ-spouse</td>\n",
              "      <td>Handlers-cleaners</td>\n",
              "      <td>Husband</td>\n",
              "      <td>Black</td>\n",
              "      <td>1</td>\n",
              "      <td>0</td>\n",
              "      <td>0</td>\n",
              "      <td>40</td>\n",
              "      <td>United-States</td>\n",
              "    </tr>\n",
              "    <tr>\n",
              "      <th>4</th>\n",
              "      <td>28</td>\n",
              "      <td>Private</td>\n",
              "      <td>338409</td>\n",
              "      <td>13</td>\n",
              "      <td>Married-civ-spouse</td>\n",
              "      <td>Prof-specialty</td>\n",
              "      <td>Wife</td>\n",
              "      <td>Black</td>\n",
              "      <td>0</td>\n",
              "      <td>0</td>\n",
              "      <td>0</td>\n",
              "      <td>40</td>\n",
              "      <td>Cuba</td>\n",
              "    </tr>\n",
              "    <tr>\n",
              "      <th>...</th>\n",
              "      <td>...</td>\n",
              "      <td>...</td>\n",
              "      <td>...</td>\n",
              "      <td>...</td>\n",
              "      <td>...</td>\n",
              "      <td>...</td>\n",
              "      <td>...</td>\n",
              "      <td>...</td>\n",
              "      <td>...</td>\n",
              "      <td>...</td>\n",
              "      <td>...</td>\n",
              "      <td>...</td>\n",
              "      <td>...</td>\n",
              "    </tr>\n",
              "    <tr>\n",
              "      <th>29299</th>\n",
              "      <td>39</td>\n",
              "      <td>Self-emp-not-inc</td>\n",
              "      <td>148443</td>\n",
              "      <td>9</td>\n",
              "      <td>Married-civ-spouse</td>\n",
              "      <td>Farming-fishing</td>\n",
              "      <td>Husband</td>\n",
              "      <td>White</td>\n",
              "      <td>1</td>\n",
              "      <td>0</td>\n",
              "      <td>0</td>\n",
              "      <td>60</td>\n",
              "      <td>United-States</td>\n",
              "    </tr>\n",
              "    <tr>\n",
              "      <th>29300</th>\n",
              "      <td>23</td>\n",
              "      <td>Private</td>\n",
              "      <td>91733</td>\n",
              "      <td>13</td>\n",
              "      <td>Never-married</td>\n",
              "      <td>Tech-support</td>\n",
              "      <td>Own-child</td>\n",
              "      <td>White</td>\n",
              "      <td>0</td>\n",
              "      <td>3325</td>\n",
              "      <td>0</td>\n",
              "      <td>40</td>\n",
              "      <td>United-States</td>\n",
              "    </tr>\n",
              "    <tr>\n",
              "      <th>29301</th>\n",
              "      <td>39</td>\n",
              "      <td>Private</td>\n",
              "      <td>176634</td>\n",
              "      <td>12</td>\n",
              "      <td>Never-married</td>\n",
              "      <td>Tech-support</td>\n",
              "      <td>Not-in-family</td>\n",
              "      <td>White</td>\n",
              "      <td>0</td>\n",
              "      <td>0</td>\n",
              "      <td>0</td>\n",
              "      <td>40</td>\n",
              "      <td>United-States</td>\n",
              "    </tr>\n",
              "    <tr>\n",
              "      <th>29302</th>\n",
              "      <td>40</td>\n",
              "      <td>Local-gov</td>\n",
              "      <td>74949</td>\n",
              "      <td>10</td>\n",
              "      <td>Never-married</td>\n",
              "      <td>Exec-managerial</td>\n",
              "      <td>Not-in-family</td>\n",
              "      <td>White</td>\n",
              "      <td>1</td>\n",
              "      <td>0</td>\n",
              "      <td>0</td>\n",
              "      <td>40</td>\n",
              "      <td>United-States</td>\n",
              "    </tr>\n",
              "    <tr>\n",
              "      <th>29303</th>\n",
              "      <td>48</td>\n",
              "      <td>Private</td>\n",
              "      <td>165484</td>\n",
              "      <td>10</td>\n",
              "      <td>Married-civ-spouse</td>\n",
              "      <td>Exec-managerial</td>\n",
              "      <td>Husband</td>\n",
              "      <td>White</td>\n",
              "      <td>1</td>\n",
              "      <td>0</td>\n",
              "      <td>0</td>\n",
              "      <td>65</td>\n",
              "      <td>United-States</td>\n",
              "    </tr>\n",
              "  </tbody>\n",
              "</table>\n",
              "<p>29304 rows × 13 columns</p>\n",
              "</div>"
            ],
            "text/plain": [
              "       Age         Workclass  Fnlwgt  Education-num      Marital-status  \\\n",
              "0       39         State-gov   77516             13       Never-married   \n",
              "1       50  Self-emp-not-inc   83311             13  Married-civ-spouse   \n",
              "2       38           Private  215646              9            Divorced   \n",
              "3       53           Private  234721              7  Married-civ-spouse   \n",
              "4       28           Private  338409             13  Married-civ-spouse   \n",
              "...    ...               ...     ...            ...                 ...   \n",
              "29299   39  Self-emp-not-inc  148443              9  Married-civ-spouse   \n",
              "29300   23           Private   91733             13       Never-married   \n",
              "29301   39           Private  176634             12       Never-married   \n",
              "29302   40         Local-gov   74949             10       Never-married   \n",
              "29303   48           Private  165484             10  Married-civ-spouse   \n",
              "\n",
              "              Occupation   Relationship    Race  Sex  Capital-gain  \\\n",
              "0           Adm-clerical  Not-in-family   White    1          2174   \n",
              "1        Exec-managerial        Husband   White    1             0   \n",
              "2      Handlers-cleaners  Not-in-family   White    1             0   \n",
              "3      Handlers-cleaners        Husband   Black    1             0   \n",
              "4         Prof-specialty           Wife   Black    0             0   \n",
              "...                  ...            ...     ...  ...           ...   \n",
              "29299    Farming-fishing        Husband   White    1             0   \n",
              "29300       Tech-support      Own-child   White    0          3325   \n",
              "29301       Tech-support  Not-in-family   White    0             0   \n",
              "29302    Exec-managerial  Not-in-family   White    1             0   \n",
              "29303    Exec-managerial        Husband   White    1             0   \n",
              "\n",
              "       Capital-loss  Hours-per-week Native-country  \n",
              "0                 0              40  United-States  \n",
              "1                 0              13  United-States  \n",
              "2                 0              40  United-States  \n",
              "3                 0              40  United-States  \n",
              "4                 0              40           Cuba  \n",
              "...             ...             ...            ...  \n",
              "29299             0              60  United-States  \n",
              "29300             0              40  United-States  \n",
              "29301             0              40  United-States  \n",
              "29302             0              40  United-States  \n",
              "29303             0              65  United-States  \n",
              "\n",
              "[29304 rows x 13 columns]"
            ]
          },
          "execution_count": 12,
          "metadata": {},
          "output_type": "execute_result"
        }
      ],
      "source": [
        "mask_df = train_X_df.isnull()\n",
        "# We will encode these columns with LabelEncoder, and the rest with OneHotEncoder\n",
        "categ = [\"Sex\"]\n",
        "train_X_df[categ] = train_X_df[categ].apply(label_encoder.fit_transform)\n",
        "# This masking process won't give any effect in this cell, where 'SEX' and 'Y' don't have any missing values.\n",
        "# However, if the columns we are encoding have missing values,\n",
        "# this is how you avoid encoding missing values as a separate category.\n",
        "# To see the effect of masking, add 'Workclass' in the categ variable and check df.isnull().sum().\n",
        "train_X_df = train_X_df.mask(mask_df, np.nan)\n",
        "train_X_df"
      ]
    },
    {
      "cell_type": "code",
      "execution_count": 13,
      "metadata": {
        "colab": {
          "base_uri": "https://localhost:8080/"
        },
        "id": "-q-o9E1S3T1V",
        "outputId": "222ee3b0-97e0-43bc-b003-057c282a51b3",
        "scrolled": true
      },
      "outputs": [
        {
          "data": {
            "text/plain": [
              "Age                  0\n",
              "Workclass         1638\n",
              "Fnlwgt               0\n",
              "Education-num        0\n",
              "Marital-status       0\n",
              "Occupation        1643\n",
              "Relationship         0\n",
              "Race                 0\n",
              "Sex                  0\n",
              "Capital-gain         0\n",
              "Capital-loss         0\n",
              "Hours-per-week       0\n",
              "Native-country     525\n",
              "dtype: int64"
            ]
          },
          "execution_count": 13,
          "metadata": {},
          "output_type": "execute_result"
        }
      ],
      "source": [
        "# The missing values are intact and were not encoded.\n",
        "train_X_df.isnull().sum()"
      ]
    },
    {
      "cell_type": "code",
      "execution_count": 14,
      "metadata": {
        "colab": {
          "base_uri": "https://localhost:8080/"
        },
        "id": "DT7ceU3L3T1V",
        "outputId": "2b44dbd2-16d6-46e1-f591-19e91f8b7662"
      },
      "outputs": [
        {
          "data": {
            "text/plain": [
              "array([' White', ' Black', ' Asian-Pac-Islander', ' Amer-Indian-Eskimo',\n",
              "       ' Other'], dtype=object)"
            ]
          },
          "execution_count": 14,
          "metadata": {},
          "output_type": "execute_result"
        }
      ],
      "source": [
        "train_X_df[\"Race\"].unique()"
      ]
    },
    {
      "cell_type": "markdown",
      "metadata": {
        "id": "h3m1FGN33T1V"
      },
      "source": [
        "### Task 2-2: One Hot Encoding (with missing values imputation)\n",
        "\n",
        "Tip 1: Impute the missing values (choose the right strategy) before doing OHE  \n",
        "Tip 2: Try creating a separate dataframe with one-hot encoded columns and combine the dataframe with the original dataframe for the final one."
      ]
    },
    {
      "cell_type": "code",
      "execution_count": 15,
      "metadata": {
        "colab": {
          "base_uri": "https://localhost:8080/"
        },
        "id": "lo19duKZ3T1V",
        "outputId": "766471d9-6584-4edf-8f57-194532f1ded8"
      },
      "outputs": [
        {
          "data": {
            "text/plain": [
              "Age               0\n",
              "Workclass         0\n",
              "Fnlwgt            0\n",
              "Education-num     0\n",
              "Marital-status    0\n",
              "Occupation        0\n",
              "Relationship      0\n",
              "Race              0\n",
              "Sex               0\n",
              "Capital-gain      0\n",
              "Capital-loss      0\n",
              "Hours-per-week    0\n",
              "Native-country    0\n",
              "dtype: int64"
            ]
          },
          "execution_count": 15,
          "metadata": {},
          "output_type": "execute_result"
        }
      ],
      "source": [
        "# Let's first impute the missing values.\n",
        "# Since it's a categorical value, we don't use KNN or mean imputation.\n",
        "# We will replace with the most frequent value.\n",
        "from sklearn.impute import SimpleImputer\n",
        "\n",
        "imputer = SimpleImputer(strategy=\"most_frequent\")\n",
        "imputed_train_X = imputer.fit_transform(train_X_df)\n",
        "imputed_train_X_df = pd.DataFrame(imputed_train_X, columns=train_X_df.columns)\n",
        "\n",
        "# Check that we have no missing values now\n",
        "imputed_train_X_df.isnull().sum()"
      ]
    },
    {
      "cell_type": "code",
      "execution_count": 16,
      "metadata": {
        "colab": {
          "base_uri": "https://localhost:8080/",
          "height": 473
        },
        "id": "OQ2Vg_-A3T1V",
        "outputId": "921b58b7-72d5-49f4-e463-0b7c95d60043",
        "scrolled": true
      },
      "outputs": [
        {
          "data": {
            "text/html": [
              "<div>\n",
              "<style scoped>\n",
              "    .dataframe tbody tr th:only-of-type {\n",
              "        vertical-align: middle;\n",
              "    }\n",
              "\n",
              "    .dataframe tbody tr th {\n",
              "        vertical-align: top;\n",
              "    }\n",
              "\n",
              "    .dataframe thead th {\n",
              "        text-align: right;\n",
              "    }\n",
              "</style>\n",
              "<table border=\"1\" class=\"dataframe\">\n",
              "  <thead>\n",
              "    <tr style=\"text-align: right;\">\n",
              "      <th></th>\n",
              "      <th>Workclass_Federal-gov</th>\n",
              "      <th>Workclass_Local-gov</th>\n",
              "      <th>Workclass_Never-worked</th>\n",
              "      <th>Workclass_Private</th>\n",
              "      <th>Workclass_Self-emp-inc</th>\n",
              "      <th>Workclass_Self-emp-not-inc</th>\n",
              "      <th>Workclass_State-gov</th>\n",
              "      <th>Workclass_Without-pay</th>\n",
              "      <th>Marital-status_Divorced</th>\n",
              "      <th>Marital-status_Married-AF-spouse</th>\n",
              "      <th>...</th>\n",
              "      <th>Native-country_Portugal</th>\n",
              "      <th>Native-country_Puerto-Rico</th>\n",
              "      <th>Native-country_Scotland</th>\n",
              "      <th>Native-country_South</th>\n",
              "      <th>Native-country_Taiwan</th>\n",
              "      <th>Native-country_Thailand</th>\n",
              "      <th>Native-country_Trinadad&amp;Tobago</th>\n",
              "      <th>Native-country_United-States</th>\n",
              "      <th>Native-country_Vietnam</th>\n",
              "      <th>Native-country_Yugoslavia</th>\n",
              "    </tr>\n",
              "  </thead>\n",
              "  <tbody>\n",
              "    <tr>\n",
              "      <th>0</th>\n",
              "      <td>0.0</td>\n",
              "      <td>0.0</td>\n",
              "      <td>0.0</td>\n",
              "      <td>0.0</td>\n",
              "      <td>0.0</td>\n",
              "      <td>0.0</td>\n",
              "      <td>1.0</td>\n",
              "      <td>0.0</td>\n",
              "      <td>0.0</td>\n",
              "      <td>0.0</td>\n",
              "      <td>...</td>\n",
              "      <td>0.0</td>\n",
              "      <td>0.0</td>\n",
              "      <td>0.0</td>\n",
              "      <td>0.0</td>\n",
              "      <td>0.0</td>\n",
              "      <td>0.0</td>\n",
              "      <td>0.0</td>\n",
              "      <td>1.0</td>\n",
              "      <td>0.0</td>\n",
              "      <td>0.0</td>\n",
              "    </tr>\n",
              "    <tr>\n",
              "      <th>1</th>\n",
              "      <td>0.0</td>\n",
              "      <td>0.0</td>\n",
              "      <td>0.0</td>\n",
              "      <td>0.0</td>\n",
              "      <td>0.0</td>\n",
              "      <td>1.0</td>\n",
              "      <td>0.0</td>\n",
              "      <td>0.0</td>\n",
              "      <td>0.0</td>\n",
              "      <td>0.0</td>\n",
              "      <td>...</td>\n",
              "      <td>0.0</td>\n",
              "      <td>0.0</td>\n",
              "      <td>0.0</td>\n",
              "      <td>0.0</td>\n",
              "      <td>0.0</td>\n",
              "      <td>0.0</td>\n",
              "      <td>0.0</td>\n",
              "      <td>1.0</td>\n",
              "      <td>0.0</td>\n",
              "      <td>0.0</td>\n",
              "    </tr>\n",
              "    <tr>\n",
              "      <th>2</th>\n",
              "      <td>0.0</td>\n",
              "      <td>0.0</td>\n",
              "      <td>0.0</td>\n",
              "      <td>1.0</td>\n",
              "      <td>0.0</td>\n",
              "      <td>0.0</td>\n",
              "      <td>0.0</td>\n",
              "      <td>0.0</td>\n",
              "      <td>1.0</td>\n",
              "      <td>0.0</td>\n",
              "      <td>...</td>\n",
              "      <td>0.0</td>\n",
              "      <td>0.0</td>\n",
              "      <td>0.0</td>\n",
              "      <td>0.0</td>\n",
              "      <td>0.0</td>\n",
              "      <td>0.0</td>\n",
              "      <td>0.0</td>\n",
              "      <td>1.0</td>\n",
              "      <td>0.0</td>\n",
              "      <td>0.0</td>\n",
              "    </tr>\n",
              "    <tr>\n",
              "      <th>3</th>\n",
              "      <td>0.0</td>\n",
              "      <td>0.0</td>\n",
              "      <td>0.0</td>\n",
              "      <td>1.0</td>\n",
              "      <td>0.0</td>\n",
              "      <td>0.0</td>\n",
              "      <td>0.0</td>\n",
              "      <td>0.0</td>\n",
              "      <td>0.0</td>\n",
              "      <td>0.0</td>\n",
              "      <td>...</td>\n",
              "      <td>0.0</td>\n",
              "      <td>0.0</td>\n",
              "      <td>0.0</td>\n",
              "      <td>0.0</td>\n",
              "      <td>0.0</td>\n",
              "      <td>0.0</td>\n",
              "      <td>0.0</td>\n",
              "      <td>1.0</td>\n",
              "      <td>0.0</td>\n",
              "      <td>0.0</td>\n",
              "    </tr>\n",
              "    <tr>\n",
              "      <th>4</th>\n",
              "      <td>0.0</td>\n",
              "      <td>0.0</td>\n",
              "      <td>0.0</td>\n",
              "      <td>1.0</td>\n",
              "      <td>0.0</td>\n",
              "      <td>0.0</td>\n",
              "      <td>0.0</td>\n",
              "      <td>0.0</td>\n",
              "      <td>0.0</td>\n",
              "      <td>0.0</td>\n",
              "      <td>...</td>\n",
              "      <td>0.0</td>\n",
              "      <td>0.0</td>\n",
              "      <td>0.0</td>\n",
              "      <td>0.0</td>\n",
              "      <td>0.0</td>\n",
              "      <td>0.0</td>\n",
              "      <td>0.0</td>\n",
              "      <td>0.0</td>\n",
              "      <td>0.0</td>\n",
              "      <td>0.0</td>\n",
              "    </tr>\n",
              "    <tr>\n",
              "      <th>...</th>\n",
              "      <td>...</td>\n",
              "      <td>...</td>\n",
              "      <td>...</td>\n",
              "      <td>...</td>\n",
              "      <td>...</td>\n",
              "      <td>...</td>\n",
              "      <td>...</td>\n",
              "      <td>...</td>\n",
              "      <td>...</td>\n",
              "      <td>...</td>\n",
              "      <td>...</td>\n",
              "      <td>...</td>\n",
              "      <td>...</td>\n",
              "      <td>...</td>\n",
              "      <td>...</td>\n",
              "      <td>...</td>\n",
              "      <td>...</td>\n",
              "      <td>...</td>\n",
              "      <td>...</td>\n",
              "      <td>...</td>\n",
              "      <td>...</td>\n",
              "    </tr>\n",
              "    <tr>\n",
              "      <th>29299</th>\n",
              "      <td>0.0</td>\n",
              "      <td>0.0</td>\n",
              "      <td>0.0</td>\n",
              "      <td>0.0</td>\n",
              "      <td>0.0</td>\n",
              "      <td>1.0</td>\n",
              "      <td>0.0</td>\n",
              "      <td>0.0</td>\n",
              "      <td>0.0</td>\n",
              "      <td>0.0</td>\n",
              "      <td>...</td>\n",
              "      <td>0.0</td>\n",
              "      <td>0.0</td>\n",
              "      <td>0.0</td>\n",
              "      <td>0.0</td>\n",
              "      <td>0.0</td>\n",
              "      <td>0.0</td>\n",
              "      <td>0.0</td>\n",
              "      <td>1.0</td>\n",
              "      <td>0.0</td>\n",
              "      <td>0.0</td>\n",
              "    </tr>\n",
              "    <tr>\n",
              "      <th>29300</th>\n",
              "      <td>0.0</td>\n",
              "      <td>0.0</td>\n",
              "      <td>0.0</td>\n",
              "      <td>1.0</td>\n",
              "      <td>0.0</td>\n",
              "      <td>0.0</td>\n",
              "      <td>0.0</td>\n",
              "      <td>0.0</td>\n",
              "      <td>0.0</td>\n",
              "      <td>0.0</td>\n",
              "      <td>...</td>\n",
              "      <td>0.0</td>\n",
              "      <td>0.0</td>\n",
              "      <td>0.0</td>\n",
              "      <td>0.0</td>\n",
              "      <td>0.0</td>\n",
              "      <td>0.0</td>\n",
              "      <td>0.0</td>\n",
              "      <td>1.0</td>\n",
              "      <td>0.0</td>\n",
              "      <td>0.0</td>\n",
              "    </tr>\n",
              "    <tr>\n",
              "      <th>29301</th>\n",
              "      <td>0.0</td>\n",
              "      <td>0.0</td>\n",
              "      <td>0.0</td>\n",
              "      <td>1.0</td>\n",
              "      <td>0.0</td>\n",
              "      <td>0.0</td>\n",
              "      <td>0.0</td>\n",
              "      <td>0.0</td>\n",
              "      <td>0.0</td>\n",
              "      <td>0.0</td>\n",
              "      <td>...</td>\n",
              "      <td>0.0</td>\n",
              "      <td>0.0</td>\n",
              "      <td>0.0</td>\n",
              "      <td>0.0</td>\n",
              "      <td>0.0</td>\n",
              "      <td>0.0</td>\n",
              "      <td>0.0</td>\n",
              "      <td>1.0</td>\n",
              "      <td>0.0</td>\n",
              "      <td>0.0</td>\n",
              "    </tr>\n",
              "    <tr>\n",
              "      <th>29302</th>\n",
              "      <td>0.0</td>\n",
              "      <td>1.0</td>\n",
              "      <td>0.0</td>\n",
              "      <td>0.0</td>\n",
              "      <td>0.0</td>\n",
              "      <td>0.0</td>\n",
              "      <td>0.0</td>\n",
              "      <td>0.0</td>\n",
              "      <td>0.0</td>\n",
              "      <td>0.0</td>\n",
              "      <td>...</td>\n",
              "      <td>0.0</td>\n",
              "      <td>0.0</td>\n",
              "      <td>0.0</td>\n",
              "      <td>0.0</td>\n",
              "      <td>0.0</td>\n",
              "      <td>0.0</td>\n",
              "      <td>0.0</td>\n",
              "      <td>1.0</td>\n",
              "      <td>0.0</td>\n",
              "      <td>0.0</td>\n",
              "    </tr>\n",
              "    <tr>\n",
              "      <th>29303</th>\n",
              "      <td>0.0</td>\n",
              "      <td>0.0</td>\n",
              "      <td>0.0</td>\n",
              "      <td>1.0</td>\n",
              "      <td>0.0</td>\n",
              "      <td>0.0</td>\n",
              "      <td>0.0</td>\n",
              "      <td>0.0</td>\n",
              "      <td>0.0</td>\n",
              "      <td>0.0</td>\n",
              "      <td>...</td>\n",
              "      <td>0.0</td>\n",
              "      <td>0.0</td>\n",
              "      <td>0.0</td>\n",
              "      <td>0.0</td>\n",
              "      <td>0.0</td>\n",
              "      <td>0.0</td>\n",
              "      <td>0.0</td>\n",
              "      <td>1.0</td>\n",
              "      <td>0.0</td>\n",
              "      <td>0.0</td>\n",
              "    </tr>\n",
              "  </tbody>\n",
              "</table>\n",
              "<p>29304 rows × 81 columns</p>\n",
              "</div>"
            ],
            "text/plain": [
              "       Workclass_Federal-gov  Workclass_Local-gov  Workclass_Never-worked  \\\n",
              "0                        0.0                  0.0                     0.0   \n",
              "1                        0.0                  0.0                     0.0   \n",
              "2                        0.0                  0.0                     0.0   \n",
              "3                        0.0                  0.0                     0.0   \n",
              "4                        0.0                  0.0                     0.0   \n",
              "...                      ...                  ...                     ...   \n",
              "29299                    0.0                  0.0                     0.0   \n",
              "29300                    0.0                  0.0                     0.0   \n",
              "29301                    0.0                  0.0                     0.0   \n",
              "29302                    0.0                  1.0                     0.0   \n",
              "29303                    0.0                  0.0                     0.0   \n",
              "\n",
              "       Workclass_Private  Workclass_Self-emp-inc  Workclass_Self-emp-not-inc  \\\n",
              "0                    0.0                     0.0                         0.0   \n",
              "1                    0.0                     0.0                         1.0   \n",
              "2                    1.0                     0.0                         0.0   \n",
              "3                    1.0                     0.0                         0.0   \n",
              "4                    1.0                     0.0                         0.0   \n",
              "...                  ...                     ...                         ...   \n",
              "29299                0.0                     0.0                         1.0   \n",
              "29300                1.0                     0.0                         0.0   \n",
              "29301                1.0                     0.0                         0.0   \n",
              "29302                0.0                     0.0                         0.0   \n",
              "29303                1.0                     0.0                         0.0   \n",
              "\n",
              "       Workclass_State-gov  Workclass_Without-pay  Marital-status_Divorced  \\\n",
              "0                      1.0                    0.0                      0.0   \n",
              "1                      0.0                    0.0                      0.0   \n",
              "2                      0.0                    0.0                      1.0   \n",
              "3                      0.0                    0.0                      0.0   \n",
              "4                      0.0                    0.0                      0.0   \n",
              "...                    ...                    ...                      ...   \n",
              "29299                  0.0                    0.0                      0.0   \n",
              "29300                  0.0                    0.0                      0.0   \n",
              "29301                  0.0                    0.0                      0.0   \n",
              "29302                  0.0                    0.0                      0.0   \n",
              "29303                  0.0                    0.0                      0.0   \n",
              "\n",
              "       Marital-status_Married-AF-spouse  ...  Native-country_Portugal  \\\n",
              "0                                   0.0  ...                      0.0   \n",
              "1                                   0.0  ...                      0.0   \n",
              "2                                   0.0  ...                      0.0   \n",
              "3                                   0.0  ...                      0.0   \n",
              "4                                   0.0  ...                      0.0   \n",
              "...                                 ...  ...                      ...   \n",
              "29299                               0.0  ...                      0.0   \n",
              "29300                               0.0  ...                      0.0   \n",
              "29301                               0.0  ...                      0.0   \n",
              "29302                               0.0  ...                      0.0   \n",
              "29303                               0.0  ...                      0.0   \n",
              "\n",
              "       Native-country_Puerto-Rico  Native-country_Scotland  \\\n",
              "0                             0.0                      0.0   \n",
              "1                             0.0                      0.0   \n",
              "2                             0.0                      0.0   \n",
              "3                             0.0                      0.0   \n",
              "4                             0.0                      0.0   \n",
              "...                           ...                      ...   \n",
              "29299                         0.0                      0.0   \n",
              "29300                         0.0                      0.0   \n",
              "29301                         0.0                      0.0   \n",
              "29302                         0.0                      0.0   \n",
              "29303                         0.0                      0.0   \n",
              "\n",
              "       Native-country_South  Native-country_Taiwan  Native-country_Thailand  \\\n",
              "0                       0.0                    0.0                      0.0   \n",
              "1                       0.0                    0.0                      0.0   \n",
              "2                       0.0                    0.0                      0.0   \n",
              "3                       0.0                    0.0                      0.0   \n",
              "4                       0.0                    0.0                      0.0   \n",
              "...                     ...                    ...                      ...   \n",
              "29299                   0.0                    0.0                      0.0   \n",
              "29300                   0.0                    0.0                      0.0   \n",
              "29301                   0.0                    0.0                      0.0   \n",
              "29302                   0.0                    0.0                      0.0   \n",
              "29303                   0.0                    0.0                      0.0   \n",
              "\n",
              "       Native-country_Trinadad&Tobago  Native-country_United-States  \\\n",
              "0                                 0.0                           1.0   \n",
              "1                                 0.0                           1.0   \n",
              "2                                 0.0                           1.0   \n",
              "3                                 0.0                           1.0   \n",
              "4                                 0.0                           0.0   \n",
              "...                               ...                           ...   \n",
              "29299                             0.0                           1.0   \n",
              "29300                             0.0                           1.0   \n",
              "29301                             0.0                           1.0   \n",
              "29302                             0.0                           1.0   \n",
              "29303                             0.0                           1.0   \n",
              "\n",
              "       Native-country_Vietnam  Native-country_Yugoslavia  \n",
              "0                         0.0                        0.0  \n",
              "1                         0.0                        0.0  \n",
              "2                         0.0                        0.0  \n",
              "3                         0.0                        0.0  \n",
              "4                         0.0                        0.0  \n",
              "...                       ...                        ...  \n",
              "29299                     0.0                        0.0  \n",
              "29300                     0.0                        0.0  \n",
              "29301                     0.0                        0.0  \n",
              "29302                     0.0                        0.0  \n",
              "29303                     0.0                        0.0  \n",
              "\n",
              "[29304 rows x 81 columns]"
            ]
          },
          "execution_count": 16,
          "metadata": {},
          "output_type": "execute_result"
        }
      ],
      "source": [
        "# We want to turn these features into one-hot vectors\n",
        "onehot_categ = [\n",
        "    \"Workclass\",\n",
        "    \"Marital-status\",\n",
        "    \"Occupation\",\n",
        "    \"Relationship\",\n",
        "    \"Race\",\n",
        "    \"Native-country\",\n",
        "]\n",
        "onehot_encoder = OneHotEncoder(sparse_output=False).fit(\n",
        "    imputed_train_X_df[onehot_categ]\n",
        ")\n",
        "encoded = onehot_encoder.transform(imputed_train_X_df[onehot_categ])\n",
        "encoded_df = pd.DataFrame(encoded, columns=onehot_encoder.get_feature_names_out())\n",
        "encoded_df"
      ]
    },
    {
      "cell_type": "code",
      "execution_count": 17,
      "metadata": {
        "colab": {
          "base_uri": "https://localhost:8080/",
          "height": 473
        },
        "id": "5AxwnbnK3T1V",
        "outputId": "22cf8ce0-1470-4cd3-b15a-72c6cd75c3d1",
        "scrolled": true
      },
      "outputs": [
        {
          "data": {
            "text/html": [
              "<div>\n",
              "<style scoped>\n",
              "    .dataframe tbody tr th:only-of-type {\n",
              "        vertical-align: middle;\n",
              "    }\n",
              "\n",
              "    .dataframe tbody tr th {\n",
              "        vertical-align: top;\n",
              "    }\n",
              "\n",
              "    .dataframe thead th {\n",
              "        text-align: right;\n",
              "    }\n",
              "</style>\n",
              "<table border=\"1\" class=\"dataframe\">\n",
              "  <thead>\n",
              "    <tr style=\"text-align: right;\">\n",
              "      <th></th>\n",
              "      <th>Age</th>\n",
              "      <th>Fnlwgt</th>\n",
              "      <th>Education-num</th>\n",
              "      <th>Sex</th>\n",
              "      <th>Capital-gain</th>\n",
              "      <th>Capital-loss</th>\n",
              "      <th>Hours-per-week</th>\n",
              "      <th>Workclass_Federal-gov</th>\n",
              "      <th>Workclass_Local-gov</th>\n",
              "      <th>Workclass_Never-worked</th>\n",
              "      <th>...</th>\n",
              "      <th>Native-country_Portugal</th>\n",
              "      <th>Native-country_Puerto-Rico</th>\n",
              "      <th>Native-country_Scotland</th>\n",
              "      <th>Native-country_South</th>\n",
              "      <th>Native-country_Taiwan</th>\n",
              "      <th>Native-country_Thailand</th>\n",
              "      <th>Native-country_Trinadad&amp;Tobago</th>\n",
              "      <th>Native-country_United-States</th>\n",
              "      <th>Native-country_Vietnam</th>\n",
              "      <th>Native-country_Yugoslavia</th>\n",
              "    </tr>\n",
              "  </thead>\n",
              "  <tbody>\n",
              "    <tr>\n",
              "      <th>0</th>\n",
              "      <td>39</td>\n",
              "      <td>77516</td>\n",
              "      <td>13</td>\n",
              "      <td>1</td>\n",
              "      <td>2174</td>\n",
              "      <td>0</td>\n",
              "      <td>40</td>\n",
              "      <td>0.0</td>\n",
              "      <td>0.0</td>\n",
              "      <td>0.0</td>\n",
              "      <td>...</td>\n",
              "      <td>0.0</td>\n",
              "      <td>0.0</td>\n",
              "      <td>0.0</td>\n",
              "      <td>0.0</td>\n",
              "      <td>0.0</td>\n",
              "      <td>0.0</td>\n",
              "      <td>0.0</td>\n",
              "      <td>1.0</td>\n",
              "      <td>0.0</td>\n",
              "      <td>0.0</td>\n",
              "    </tr>\n",
              "    <tr>\n",
              "      <th>1</th>\n",
              "      <td>50</td>\n",
              "      <td>83311</td>\n",
              "      <td>13</td>\n",
              "      <td>1</td>\n",
              "      <td>0</td>\n",
              "      <td>0</td>\n",
              "      <td>13</td>\n",
              "      <td>0.0</td>\n",
              "      <td>0.0</td>\n",
              "      <td>0.0</td>\n",
              "      <td>...</td>\n",
              "      <td>0.0</td>\n",
              "      <td>0.0</td>\n",
              "      <td>0.0</td>\n",
              "      <td>0.0</td>\n",
              "      <td>0.0</td>\n",
              "      <td>0.0</td>\n",
              "      <td>0.0</td>\n",
              "      <td>1.0</td>\n",
              "      <td>0.0</td>\n",
              "      <td>0.0</td>\n",
              "    </tr>\n",
              "    <tr>\n",
              "      <th>2</th>\n",
              "      <td>38</td>\n",
              "      <td>215646</td>\n",
              "      <td>9</td>\n",
              "      <td>1</td>\n",
              "      <td>0</td>\n",
              "      <td>0</td>\n",
              "      <td>40</td>\n",
              "      <td>0.0</td>\n",
              "      <td>0.0</td>\n",
              "      <td>0.0</td>\n",
              "      <td>...</td>\n",
              "      <td>0.0</td>\n",
              "      <td>0.0</td>\n",
              "      <td>0.0</td>\n",
              "      <td>0.0</td>\n",
              "      <td>0.0</td>\n",
              "      <td>0.0</td>\n",
              "      <td>0.0</td>\n",
              "      <td>1.0</td>\n",
              "      <td>0.0</td>\n",
              "      <td>0.0</td>\n",
              "    </tr>\n",
              "    <tr>\n",
              "      <th>3</th>\n",
              "      <td>53</td>\n",
              "      <td>234721</td>\n",
              "      <td>7</td>\n",
              "      <td>1</td>\n",
              "      <td>0</td>\n",
              "      <td>0</td>\n",
              "      <td>40</td>\n",
              "      <td>0.0</td>\n",
              "      <td>0.0</td>\n",
              "      <td>0.0</td>\n",
              "      <td>...</td>\n",
              "      <td>0.0</td>\n",
              "      <td>0.0</td>\n",
              "      <td>0.0</td>\n",
              "      <td>0.0</td>\n",
              "      <td>0.0</td>\n",
              "      <td>0.0</td>\n",
              "      <td>0.0</td>\n",
              "      <td>1.0</td>\n",
              "      <td>0.0</td>\n",
              "      <td>0.0</td>\n",
              "    </tr>\n",
              "    <tr>\n",
              "      <th>4</th>\n",
              "      <td>28</td>\n",
              "      <td>338409</td>\n",
              "      <td>13</td>\n",
              "      <td>0</td>\n",
              "      <td>0</td>\n",
              "      <td>0</td>\n",
              "      <td>40</td>\n",
              "      <td>0.0</td>\n",
              "      <td>0.0</td>\n",
              "      <td>0.0</td>\n",
              "      <td>...</td>\n",
              "      <td>0.0</td>\n",
              "      <td>0.0</td>\n",
              "      <td>0.0</td>\n",
              "      <td>0.0</td>\n",
              "      <td>0.0</td>\n",
              "      <td>0.0</td>\n",
              "      <td>0.0</td>\n",
              "      <td>0.0</td>\n",
              "      <td>0.0</td>\n",
              "      <td>0.0</td>\n",
              "    </tr>\n",
              "    <tr>\n",
              "      <th>...</th>\n",
              "      <td>...</td>\n",
              "      <td>...</td>\n",
              "      <td>...</td>\n",
              "      <td>...</td>\n",
              "      <td>...</td>\n",
              "      <td>...</td>\n",
              "      <td>...</td>\n",
              "      <td>...</td>\n",
              "      <td>...</td>\n",
              "      <td>...</td>\n",
              "      <td>...</td>\n",
              "      <td>...</td>\n",
              "      <td>...</td>\n",
              "      <td>...</td>\n",
              "      <td>...</td>\n",
              "      <td>...</td>\n",
              "      <td>...</td>\n",
              "      <td>...</td>\n",
              "      <td>...</td>\n",
              "      <td>...</td>\n",
              "      <td>...</td>\n",
              "    </tr>\n",
              "    <tr>\n",
              "      <th>29299</th>\n",
              "      <td>39</td>\n",
              "      <td>148443</td>\n",
              "      <td>9</td>\n",
              "      <td>1</td>\n",
              "      <td>0</td>\n",
              "      <td>0</td>\n",
              "      <td>60</td>\n",
              "      <td>0.0</td>\n",
              "      <td>0.0</td>\n",
              "      <td>0.0</td>\n",
              "      <td>...</td>\n",
              "      <td>0.0</td>\n",
              "      <td>0.0</td>\n",
              "      <td>0.0</td>\n",
              "      <td>0.0</td>\n",
              "      <td>0.0</td>\n",
              "      <td>0.0</td>\n",
              "      <td>0.0</td>\n",
              "      <td>1.0</td>\n",
              "      <td>0.0</td>\n",
              "      <td>0.0</td>\n",
              "    </tr>\n",
              "    <tr>\n",
              "      <th>29300</th>\n",
              "      <td>23</td>\n",
              "      <td>91733</td>\n",
              "      <td>13</td>\n",
              "      <td>0</td>\n",
              "      <td>3325</td>\n",
              "      <td>0</td>\n",
              "      <td>40</td>\n",
              "      <td>0.0</td>\n",
              "      <td>0.0</td>\n",
              "      <td>0.0</td>\n",
              "      <td>...</td>\n",
              "      <td>0.0</td>\n",
              "      <td>0.0</td>\n",
              "      <td>0.0</td>\n",
              "      <td>0.0</td>\n",
              "      <td>0.0</td>\n",
              "      <td>0.0</td>\n",
              "      <td>0.0</td>\n",
              "      <td>1.0</td>\n",
              "      <td>0.0</td>\n",
              "      <td>0.0</td>\n",
              "    </tr>\n",
              "    <tr>\n",
              "      <th>29301</th>\n",
              "      <td>39</td>\n",
              "      <td>176634</td>\n",
              "      <td>12</td>\n",
              "      <td>0</td>\n",
              "      <td>0</td>\n",
              "      <td>0</td>\n",
              "      <td>40</td>\n",
              "      <td>0.0</td>\n",
              "      <td>0.0</td>\n",
              "      <td>0.0</td>\n",
              "      <td>...</td>\n",
              "      <td>0.0</td>\n",
              "      <td>0.0</td>\n",
              "      <td>0.0</td>\n",
              "      <td>0.0</td>\n",
              "      <td>0.0</td>\n",
              "      <td>0.0</td>\n",
              "      <td>0.0</td>\n",
              "      <td>1.0</td>\n",
              "      <td>0.0</td>\n",
              "      <td>0.0</td>\n",
              "    </tr>\n",
              "    <tr>\n",
              "      <th>29302</th>\n",
              "      <td>40</td>\n",
              "      <td>74949</td>\n",
              "      <td>10</td>\n",
              "      <td>1</td>\n",
              "      <td>0</td>\n",
              "      <td>0</td>\n",
              "      <td>40</td>\n",
              "      <td>0.0</td>\n",
              "      <td>1.0</td>\n",
              "      <td>0.0</td>\n",
              "      <td>...</td>\n",
              "      <td>0.0</td>\n",
              "      <td>0.0</td>\n",
              "      <td>0.0</td>\n",
              "      <td>0.0</td>\n",
              "      <td>0.0</td>\n",
              "      <td>0.0</td>\n",
              "      <td>0.0</td>\n",
              "      <td>1.0</td>\n",
              "      <td>0.0</td>\n",
              "      <td>0.0</td>\n",
              "    </tr>\n",
              "    <tr>\n",
              "      <th>29303</th>\n",
              "      <td>48</td>\n",
              "      <td>165484</td>\n",
              "      <td>10</td>\n",
              "      <td>1</td>\n",
              "      <td>0</td>\n",
              "      <td>0</td>\n",
              "      <td>65</td>\n",
              "      <td>0.0</td>\n",
              "      <td>0.0</td>\n",
              "      <td>0.0</td>\n",
              "      <td>...</td>\n",
              "      <td>0.0</td>\n",
              "      <td>0.0</td>\n",
              "      <td>0.0</td>\n",
              "      <td>0.0</td>\n",
              "      <td>0.0</td>\n",
              "      <td>0.0</td>\n",
              "      <td>0.0</td>\n",
              "      <td>1.0</td>\n",
              "      <td>0.0</td>\n",
              "      <td>0.0</td>\n",
              "    </tr>\n",
              "  </tbody>\n",
              "</table>\n",
              "<p>29304 rows × 88 columns</p>\n",
              "</div>"
            ],
            "text/plain": [
              "      Age  Fnlwgt Education-num Sex Capital-gain Capital-loss Hours-per-week  \\\n",
              "0      39   77516            13   1         2174            0             40   \n",
              "1      50   83311            13   1            0            0             13   \n",
              "2      38  215646             9   1            0            0             40   \n",
              "3      53  234721             7   1            0            0             40   \n",
              "4      28  338409            13   0            0            0             40   \n",
              "...    ..     ...           ...  ..          ...          ...            ...   \n",
              "29299  39  148443             9   1            0            0             60   \n",
              "29300  23   91733            13   0         3325            0             40   \n",
              "29301  39  176634            12   0            0            0             40   \n",
              "29302  40   74949            10   1            0            0             40   \n",
              "29303  48  165484            10   1            0            0             65   \n",
              "\n",
              "       Workclass_Federal-gov  Workclass_Local-gov  Workclass_Never-worked  \\\n",
              "0                        0.0                  0.0                     0.0   \n",
              "1                        0.0                  0.0                     0.0   \n",
              "2                        0.0                  0.0                     0.0   \n",
              "3                        0.0                  0.0                     0.0   \n",
              "4                        0.0                  0.0                     0.0   \n",
              "...                      ...                  ...                     ...   \n",
              "29299                    0.0                  0.0                     0.0   \n",
              "29300                    0.0                  0.0                     0.0   \n",
              "29301                    0.0                  0.0                     0.0   \n",
              "29302                    0.0                  1.0                     0.0   \n",
              "29303                    0.0                  0.0                     0.0   \n",
              "\n",
              "       ...  Native-country_Portugal  Native-country_Puerto-Rico  \\\n",
              "0      ...                      0.0                         0.0   \n",
              "1      ...                      0.0                         0.0   \n",
              "2      ...                      0.0                         0.0   \n",
              "3      ...                      0.0                         0.0   \n",
              "4      ...                      0.0                         0.0   \n",
              "...    ...                      ...                         ...   \n",
              "29299  ...                      0.0                         0.0   \n",
              "29300  ...                      0.0                         0.0   \n",
              "29301  ...                      0.0                         0.0   \n",
              "29302  ...                      0.0                         0.0   \n",
              "29303  ...                      0.0                         0.0   \n",
              "\n",
              "       Native-country_Scotland  Native-country_South  Native-country_Taiwan  \\\n",
              "0                          0.0                   0.0                    0.0   \n",
              "1                          0.0                   0.0                    0.0   \n",
              "2                          0.0                   0.0                    0.0   \n",
              "3                          0.0                   0.0                    0.0   \n",
              "4                          0.0                   0.0                    0.0   \n",
              "...                        ...                   ...                    ...   \n",
              "29299                      0.0                   0.0                    0.0   \n",
              "29300                      0.0                   0.0                    0.0   \n",
              "29301                      0.0                   0.0                    0.0   \n",
              "29302                      0.0                   0.0                    0.0   \n",
              "29303                      0.0                   0.0                    0.0   \n",
              "\n",
              "       Native-country_Thailand  Native-country_Trinadad&Tobago  \\\n",
              "0                          0.0                             0.0   \n",
              "1                          0.0                             0.0   \n",
              "2                          0.0                             0.0   \n",
              "3                          0.0                             0.0   \n",
              "4                          0.0                             0.0   \n",
              "...                        ...                             ...   \n",
              "29299                      0.0                             0.0   \n",
              "29300                      0.0                             0.0   \n",
              "29301                      0.0                             0.0   \n",
              "29302                      0.0                             0.0   \n",
              "29303                      0.0                             0.0   \n",
              "\n",
              "       Native-country_United-States  Native-country_Vietnam  \\\n",
              "0                               1.0                     0.0   \n",
              "1                               1.0                     0.0   \n",
              "2                               1.0                     0.0   \n",
              "3                               1.0                     0.0   \n",
              "4                               0.0                     0.0   \n",
              "...                             ...                     ...   \n",
              "29299                           1.0                     0.0   \n",
              "29300                           1.0                     0.0   \n",
              "29301                           1.0                     0.0   \n",
              "29302                           1.0                     0.0   \n",
              "29303                           1.0                     0.0   \n",
              "\n",
              "       Native-country_Yugoslavia  \n",
              "0                            0.0  \n",
              "1                            0.0  \n",
              "2                            0.0  \n",
              "3                            0.0  \n",
              "4                            0.0  \n",
              "...                          ...  \n",
              "29299                        0.0  \n",
              "29300                        0.0  \n",
              "29301                        0.0  \n",
              "29302                        0.0  \n",
              "29303                        0.0  \n",
              "\n",
              "[29304 rows x 88 columns]"
            ]
          },
          "execution_count": 17,
          "metadata": {},
          "output_type": "execute_result"
        }
      ],
      "source": [
        "# After finishing encoding categorical variables,\n",
        "# we make the final dataframe by concatenating it with the imputed dataframe\n",
        "imputed_train_X_df = imputed_train_X_df.drop(onehot_categ, axis=1)\n",
        "final_df_train_X_df = pd.concat([imputed_train_X_df, encoded_df], axis=1)\n",
        "final_df_train_X_df"
      ]
    },
    {
      "cell_type": "code",
      "execution_count": 18,
      "metadata": {
        "colab": {
          "base_uri": "https://localhost:8080/"
        },
        "id": "knu0PQNp3T1V",
        "outputId": "43311e50-f4be-4e96-f6ed-14bf3a6ad2b4"
      },
      "outputs": [
        {
          "data": {
            "text/plain": [
              "(29304, 88)"
            ]
          },
          "execution_count": 18,
          "metadata": {},
          "output_type": "execute_result"
        }
      ],
      "source": [
        "final_df_train_X_df.shape"
      ]
    },
    {
      "cell_type": "markdown",
      "metadata": {
        "id": "Jq9UcXG_3T1V"
      },
      "source": [
        "### Side Note: Data Imputation with KNN\n",
        "For the adult dataset, missing data present only in categorical values, so imputing strategy that makes floating point may not make sense.\n",
        "However, for continuous values, you can use various imputation strategies, such as taking simple mean or mean value from K nearest neighbors (KNN).\n",
        "If you use `sklearn.imput.KNNImputer`, each sample’s missing values are imputed using the `mean` value from `n_neighbors` nearest neighbors found in the training set.\n",
        "If you want to use `mode` value from neighbors (for categorical data imputation) you need to implement the imputer by yourself.\n",
        "\n",
        "- `sklearn-pandas` package (https://pypi.org/project/sklearn-pandas/1.5.0/) provides `CategoricalImputer` class, which is suitable for such processing\n",
        "\n",
        "Here, we use iris dataset to show how to use KNNImputer for continuous values"
      ]
    },
    {
      "cell_type": "code",
      "execution_count": 19,
      "metadata": {
        "id": "r1HdQol83T1V"
      },
      "outputs": [],
      "source": [
        "from sklearn.datasets import load_iris\n",
        "from sklearn.impute import KNNImputer"
      ]
    },
    {
      "cell_type": "code",
      "execution_count": 20,
      "metadata": {
        "id": "EHuO1A9V3T1V"
      },
      "outputs": [],
      "source": [
        "iris = load_iris()\n",
        "iris_df = pd.DataFrame(iris.data, columns=iris.feature_names)"
      ]
    },
    {
      "cell_type": "code",
      "execution_count": 21,
      "metadata": {
        "colab": {
          "base_uri": "https://localhost:8080/"
        },
        "id": "RjO8yQ073T1W",
        "outputId": "fdb8ea32-a150-473e-a972-77811fb0f9be"
      },
      "outputs": [
        {
          "data": {
            "text/plain": [
              "sepal length (cm)    11\n",
              "sepal width (cm)     13\n",
              "petal length (cm)    13\n",
              "petal width (cm)     11\n",
              "dtype: int64"
            ]
          },
          "execution_count": 21,
          "metadata": {},
          "output_type": "execute_result"
        }
      ],
      "source": [
        "# Applying a random mask to make missing data\n",
        "mask = np.random.choice([True, False], size=iris_df.shape[0] * iris_df.shape[1])\n",
        "mask[:500] = True\n",
        "np.random.shuffle(mask)\n",
        "mask = np.reshape(mask, iris_df.shape)\n",
        "iris_df = iris_df.mask(~mask)\n",
        "\n",
        "iris_df.isnull().sum()"
      ]
    },
    {
      "cell_type": "code",
      "execution_count": 22,
      "metadata": {
        "id": "MorQQd4V3T1W"
      },
      "outputs": [],
      "source": [
        "train_X, test_X = iris_df[:100], iris_df[100:]"
      ]
    },
    {
      "cell_type": "code",
      "execution_count": 23,
      "metadata": {
        "id": "zkh5aI_J3T1W"
      },
      "outputs": [],
      "source": [
        "# It is important to impute the train and test set separately (not fitting KNN to test set) to avoid data leak.\n",
        "imputer = KNNImputer(n_neighbors=5)\n",
        "imputed_train_X = imputer.fit_transform(train_X)\n",
        "imputed_test_X = imputer.transform(test_X)"
      ]
    },
    {
      "cell_type": "code",
      "execution_count": 24,
      "metadata": {
        "id": "YgJNUSFP3T1W"
      },
      "outputs": [],
      "source": [
        "del iris, iris_df, mask, train_X, test_X, imputer, imputed_train_X, imputed_test_X"
      ]
    },
    {
      "cell_type": "code",
      "execution_count": null,
      "metadata": {
        "id": "JjqvhZ0j3T1W"
      },
      "outputs": [],
      "source": []
    },
    {
      "cell_type": "markdown",
      "metadata": {
        "id": "6xa4zDSc3T1W"
      },
      "source": [
        "### Task 3: Create different preprocessing strategies of your own\n",
        "Create different versions of X (X1 and X2) by dropping missing values (X1) or using strategies for data imputation (X2). Define different preprocessing strategies using the `Pipeline` and `ColmnTransformer` class\n"
      ]
    },
    {
      "cell_type": "markdown",
      "metadata": {
        "id": "1-fmKg3FnoNL"
      },
      "source": [
        "### Task 3-1: Dropping missing values (X1)"
      ]
    },
    {
      "cell_type": "code",
      "execution_count": 25,
      "metadata": {
        "id": "OwD6VO-S3T1W"
      },
      "outputs": [],
      "source": [
        "from sklearn.pipeline import Pipeline\n",
        "from sklearn.compose import ColumnTransformer\n",
        "from sklearn.impute import SimpleImputer, KNNImputer\n",
        "from sklearn.preprocessing import StandardScaler\n",
        "non_categorical_features = [\n",
        "    \"Age\",\n",
        "    \"Fnlwgt\",\n",
        "    \"Capital-gain\",\n",
        "    \"Capital-loss\",\n",
        "    \"Hours-per-week\",\n",
        "]\n",
        "categorical_ohe_features = [\n",
        "    \"Workclass\",\n",
        "    \"Education-num\",\n",
        "    \"Marital-status\",\n",
        "    \"Occupation\",\n",
        "    \"Relationship\",\n",
        "    \"Race\",\n",
        "    \"Native-country\",\n",
        "]\n",
        "categorical_le_features = [\"Sex\"]"
      ]
    },
    {
      "cell_type": "code",
      "execution_count": 26,
      "metadata": {
        "id": "vevvJZk73T1W"
      },
      "outputs": [],
      "source": [
        "# Your explorations here"
      ]
    },
    {
      "cell_type": "code",
      "execution_count": 27,
      "metadata": {
        "colab": {
          "base_uri": "https://localhost:8080/"
        },
        "id": "_KPP3jZk3T1W",
        "outputId": "d6363b79-74ce-4823-8d52-7ac0c460b11e"
      },
      "outputs": [
        {
          "name": "stdout",
          "output_type": "stream",
          "text": [
            "Splitting from index 27145\n"
          ]
        }
      ],
      "source": [
        "# X1\n",
        "df = pd.read_csv(\"clean_adult.csv\")\n",
        "df = df.drop([\"Education\"], axis=1)\n",
        "df_dropna = df.dropna()\n",
        "train_X1, train_y1, test_X1, test_y1 = train_test_split_df(df_dropna)\n"
      ]
    },
    {
      "cell_type": "code",
      "execution_count": 28,
      "metadata": {
        "id": "Oora3gTOrmDy"
      },
      "outputs": [],
      "source": [
        "# For features like 'Age' and 'Fnlwgt'\n",
        "non_categorical_transformer = Pipeline(\n",
        "    # For KNNImputer, see the side note below\n",
        "    # We can add scaling for non-categorical features\n",
        "    steps=[(\"scaling\", StandardScaler())]\n",
        ")\n",
        "\n",
        "# For features like 'Workclass' and 'Education'\n",
        "categorical_ohe_transformer = Pipeline(\n",
        "    steps=[\n",
        "        (\"OHE\", OneHotEncoder(sparse_output=False, handle_unknown=\"ignore\")),\n",
        "        # no need to scale\n",
        "    ]\n",
        ")\n",
        "\n",
        "# For features like 'Sex'\n",
        "categorical_le_transformer = Pipeline(\n",
        "    steps=[\n",
        "        # Here, we change to the OrdinalEncoder as LabelEncoder is used for the target variable\n",
        "        # Try changing the OrdinalEncoder to LabelEncoder to see what error you see,\n",
        "        # and check the documentation of LabelEncoder\n",
        "        (\"LE\", OrdinalEncoder()),\n",
        "        # In the case of adult dataset, no need to scale for just 'Sex' variable,\n",
        "        # but other label/ordinal encoded categorical features can be ordinal -> scaling\n",
        "        (\"scaling\", StandardScaler()),\n",
        "    ]\n",
        ")"
      ]
    },
    {
      "cell_type": "code",
      "execution_count": 29,
      "metadata": {
        "id": "9CAUxrlIsVz5"
      },
      "outputs": [],
      "source": [
        "ct1 = ColumnTransformer(\n",
        "    transformers=[\n",
        "        (\"non-categorical\", non_categorical_transformer, non_categorical_features),\n",
        "        (\"categorical-ohe\", categorical_ohe_transformer, categorical_ohe_features),\n",
        "        (\"categorical-le\", categorical_le_transformer, categorical_le_features),\n",
        "    ]\n",
        ")"
      ]
    },
    {
      "cell_type": "code",
      "execution_count": 30,
      "metadata": {
        "colab": {
          "base_uri": "https://localhost:8080/"
        },
        "id": "sj40QfqZskJ6",
        "outputId": "8183ece3-5126-4d6b-d560-efdfc3858ebe"
      },
      "outputs": [
        {
          "data": {
            "text/plain": [
              "((27145, 102), (27145,), (3017, 102), (3017,))"
            ]
          },
          "execution_count": 30,
          "metadata": {},
          "output_type": "execute_result"
        }
      ],
      "source": [
        "#X1\n",
        "transformed_train_X1 = ct1.fit_transform(train_X1, train_y1)\n",
        "transformed_test_X1 = ct1.transform(test_X1)\n",
        "transformed_train_X1.shape, train_y1.shape, transformed_test_X1.shape, test_y1.shape"
      ]
    },
    {
      "cell_type": "code",
      "execution_count": 31,
      "metadata": {
        "id": "ztpBflEbpAkh"
      },
      "outputs": [
        {
          "data": {
            "text/plain": [
              "numpy.ndarray"
            ]
          },
          "execution_count": 31,
          "metadata": {},
          "output_type": "execute_result"
        }
      ],
      "source": [
        "type(transformed_train_X1)"
      ]
    },
    {
      "cell_type": "markdown",
      "metadata": {
        "id": "tkS0IA9YeZfe"
      },
      "source": [
        "#### Task 3-1: Using strategies for data imputation (X2)"
      ]
    },
    {
      "cell_type": "code",
      "execution_count": 32,
      "metadata": {
        "colab": {
          "base_uri": "https://localhost:8080/"
        },
        "id": "PfwThxJ1ehok",
        "outputId": "0990bcd9-824a-4f78-cfa0-3a5741ed574d"
      },
      "outputs": [
        {
          "name": "stdout",
          "output_type": "stream",
          "text": [
            "Splitting from index 29304\n"
          ]
        }
      ],
      "source": [
        "# Reload the dataset,\n",
        "df = pd.read_csv(\"clean_adult.csv\")\n",
        "df = df.drop([\"Education\"], axis=1)\n",
        "train_X2, train_y2, test_X2, test_y2 = train_test_split_df(df)"
      ]
    },
    {
      "cell_type": "code",
      "execution_count": 33,
      "metadata": {
        "id": "G266Zr-4el1L"
      },
      "outputs": [],
      "source": [
        "# For features like 'Age' and 'Fnlwgt'\n",
        "non_categorical_transformer = Pipeline(\n",
        "    # For KNNImputer, see the side note below\n",
        "    # We can add scaling for non-categorical features\n",
        "    steps=[(\"KNNImputer\", KNNImputer(n_neighbors=5)), (\"scaling\", StandardScaler())]\n",
        ")\n",
        "\n",
        "# For features like 'Workclass' and 'Education'\n",
        "categorical_ohe_transformer = Pipeline(\n",
        "    steps=[\n",
        "        (\"SimpleImputer\", SimpleImputer(strategy=\"most_frequent\")),\n",
        "        (\"OHE\", OneHotEncoder(sparse_output=False, handle_unknown=\"ignore\")),\n",
        "        # no need to scale\n",
        "    ]\n",
        ")\n",
        "\n",
        "# For features like 'Sex'\n",
        "categorical_le_transformer = Pipeline(\n",
        "    steps=[\n",
        "        (\"ModeImputer\", SimpleImputer(strategy=\"most_frequent\")),\n",
        "        # Here, we change to the OrdinalEncoder as LabelEncoder is used for the target variable\n",
        "        # Try changing the OrdinalEncoder to LabelEncoder to see what error you see,\n",
        "        # and check the documentation of LabelEncoder\n",
        "        (\"LE\", OrdinalEncoder()),\n",
        "        # In the case of adult dataset, no need to scale for just 'Sex' variable,\n",
        "        # but other label/ordinal encoded categorical features can be ordinal -> scaling\n",
        "        (\"scaling\", StandardScaler()),\n",
        "    ]\n",
        ")"
      ]
    },
    {
      "cell_type": "code",
      "execution_count": 34,
      "metadata": {
        "id": "YJbMxGyBev1l"
      },
      "outputs": [],
      "source": [
        "ct2 = ColumnTransformer(\n",
        "    transformers=[\n",
        "        (\"non-categorical\", non_categorical_transformer, non_categorical_features),\n",
        "        (\"categorical-ohe\", categorical_ohe_transformer, categorical_ohe_features),\n",
        "        (\"categorical-le\", categorical_le_transformer, categorical_le_features),\n",
        "    ]\n",
        ")"
      ]
    },
    {
      "cell_type": "code",
      "execution_count": 35,
      "metadata": {
        "colab": {
          "base_uri": "https://localhost:8080/"
        },
        "id": "bd9vnACGex7E",
        "outputId": "9d633745-d4b5-470e-eef7-5930afafba29"
      },
      "outputs": [
        {
          "data": {
            "text/plain": [
              "((29304, 103), (29304,), (3257, 103), (3257,))"
            ]
          },
          "execution_count": 35,
          "metadata": {},
          "output_type": "execute_result"
        }
      ],
      "source": [
        "#X2\n",
        "transformed_train_X2 = ct2.fit_transform(train_X2, train_y2)\n",
        "transformed_test_X2 = ct2.transform(test_X2)\n",
        "transformed_train_X2.shape, train_y2.shape, transformed_test_X2.shape, test_y2.shape"
      ]
    },
    {
      "cell_type": "markdown",
      "metadata": {
        "id": "kyaIeYem3T1W"
      },
      "source": [
        "### Task 4:\n",
        "Train different models (KNN, SVM) to predict the y from the two versions of X (X1 and X2) with a fixed value of the regularization parameter.\n",
        "Centre and scale the data before training the models. Create tables or plots to show how accuracy varies for different imputation strategies or different models."
      ]
    },
    {
      "cell_type": "markdown",
      "metadata": {
        "id": "x9KJk1D13T1W"
      },
      "source": [
        "### Task 4-1: Training KNN and SVM Models with X1\n",
        "\n"
      ]
    },
    {
      "cell_type": "code",
      "execution_count": 36,
      "metadata": {
        "id": "92fkl3413T1W"
      },
      "outputs": [],
      "source": [
        "from sklearn.neighbors import KNeighborsClassifier\n",
        "from sklearn import svm\n",
        "\n",
        "from sklearn.metrics import accuracy_score, confusion_matrix\n",
        "from sklearn.metrics import classification_report\n",
        "from sklearn.feature_selection import mutual_info_classif"
      ]
    },
    {
      "cell_type": "code",
      "execution_count": 37,
      "metadata": {
        "colab": {
          "base_uri": "https://localhost:8080/"
        },
        "id": "Req5gHFC3T1W",
        "outputId": "40b8e969-fd9c-4ffe-9365-00116e03efda"
      },
      "outputs": [
        {
          "data": {
            "text/plain": [
              "0.8223400729201193"
            ]
          },
          "execution_count": 37,
          "metadata": {},
          "output_type": "execute_result"
        }
      ],
      "source": [
        "model_knn = KNeighborsClassifier()\n",
        "\n",
        "model_knn.fit(transformed_train_X1, train_y1)\n",
        "\n",
        "# Predict Output\n",
        "y_hat_knn = model_knn.predict(transformed_test_X1)\n",
        "accuracy_score(y_hat_knn, test_y1)"
      ]
    },
    {
      "cell_type": "code",
      "execution_count": 38,
      "metadata": {
        "colab": {
          "base_uri": "https://localhost:8080/"
        },
        "id": "CCvDqh8N3T1W",
        "outputId": "6fe7b3f2-6b02-4d79-8321-1ad640d55c13"
      },
      "outputs": [
        {
          "data": {
            "text/plain": [
              "0.8412330129267485"
            ]
          },
          "execution_count": 38,
          "metadata": {},
          "output_type": "execute_result"
        }
      ],
      "source": [
        "model_svm = svm.SVC(kernel=\"linear\")  # Linear Kernel\n",
        "model_svm.fit(transformed_train_X1, train_y1)\n",
        "\n",
        "# Predict Output\n",
        "y_hat_svm = model_svm.predict(transformed_test_X1)\n",
        "accuracy_score(y_hat_svm, test_y1)"
      ]
    },
    {
      "cell_type": "markdown",
      "metadata": {
        "id": "uSX8D0on3T1W"
      },
      "source": [
        "### Task 4-2: Training KNN and SVM Models with X2"
      ]
    },
    {
      "cell_type": "code",
      "execution_count": 39,
      "metadata": {
        "colab": {
          "base_uri": "https://localhost:8080/"
        },
        "id": "DVihZiEC3T1W",
        "outputId": "6567e665-c5aa-436b-9f44-a7dab8bf6a02"
      },
      "outputs": [
        {
          "data": {
            "text/plain": [
              "0.8268345102855389"
            ]
          },
          "execution_count": 39,
          "metadata": {},
          "output_type": "execute_result"
        }
      ],
      "source": [
        "model_knn = KNeighborsClassifier()\n",
        "\n",
        "model_knn.fit(transformed_train_X2, train_y2)\n",
        "\n",
        "# Predict Output\n",
        "y_hat_knn = model_knn.predict(transformed_test_X2)\n",
        "accuracy_score(y_hat_knn, test_y2)"
      ]
    },
    {
      "cell_type": "code",
      "execution_count": 40,
      "metadata": {
        "colab": {
          "base_uri": "https://localhost:8080/"
        },
        "id": "xWijLz27tXSK",
        "outputId": "ab22977e-cfef-4fb3-d1f2-8f479905bf72"
      },
      "outputs": [
        {
          "data": {
            "text/plain": [
              "0.8470985569542524"
            ]
          },
          "execution_count": 40,
          "metadata": {},
          "output_type": "execute_result"
        }
      ],
      "source": [
        "model_svm = svm.SVC(kernel=\"linear\")  # Linear Kernel\n",
        "model_svm.fit(transformed_train_X2, train_y2)\n",
        "\n",
        "# Predict Output\n",
        "y_hat_svm = model_svm.predict(transformed_test_X2)\n",
        "accuracy_score(y_hat_svm, test_y2)"
      ]
    },
    {
      "cell_type": "markdown",
      "metadata": {
        "id": "TIIBj47c3T1W"
      },
      "source": [
        "## Part 2: Cross Validation (CV)"
      ]
    },
    {
      "cell_type": "markdown",
      "metadata": {
        "id": "NjuVQrMm3T1W"
      },
      "source": [
        "scikit-learn provides a nice visualisation of various cross validation methods.\n",
        "This notebook focuses on different cross validation strategies and how to account for data structure during cross-validation.\n",
        "\n",
        "\n",
        "Visit: https://scikit-learn.org/stable/auto_examples/model_selection/plot_cv_indices.html#visualizing-cross-validation-behavior-in-scikit-learn\n",
        "\n",
        "![kfold](https://scikit-learn.org/stable/_images/sphx_glr_plot_cv_indices_006.png)\n",
        "![stra-kfold](https://scikit-learn.org/stable/_images/sphx_glr_plot_cv_indices_003.png)\n",
        "![group-kfold](https://scikit-learn.org/stable/_images/sphx_glr_plot_cv_indices_004.png)\n",
        "![stra-group-kfold](https://scikit-learn.org/stable/_images/sphx_glr_plot_cv_indices_010.png)"
      ]
    },
    {
      "cell_type": "code",
      "execution_count": 41,
      "metadata": {
        "id": "GJyx1eZO3T1X"
      },
      "outputs": [],
      "source": [
        "from sklearn.model_selection import (\n",
        "    KFold,\n",
        "    StratifiedKFold,\n",
        "    GroupKFold,\n",
        "    StratifiedGroupKFold,\n",
        "    GridSearchCV,\n",
        ")"
      ]
    },
    {
      "cell_type": "markdown",
      "metadata": {
        "id": "6yVJbC2E3T1X"
      },
      "source": [
        "### Task 5\n",
        "Now apply cross-validation to the train set (k=5) for optimizing the models hyperparameters. After identifying the best hyperparameter, measure the performance on the test data by training the models on the training data using the optimal hyperparameter. Note: remember that the pre-processing steps, including data centering and scaling should be embedded in the CV.\n"
      ]
    },
    {
      "cell_type": "code",
      "execution_count": 42,
      "metadata": {
        "colab": {
          "base_uri": "https://localhost:8080/"
        },
        "id": "IAZbziy53T1X",
        "outputId": "b4aa1608-0ee2-4396-b75e-22f6b3b219e1"
      },
      "outputs": [
        {
          "name": "stdout",
          "output_type": "stream",
          "text": [
            "Fitting 5 folds for each of 9 candidates, totalling 45 fits\n"
          ]
        }
      ],
      "source": [
        "# The solution only using X1 data\n",
        "model_knn = KNeighborsClassifier()\n",
        "k_range = np.arange(1, 10)\n",
        "        # define grid search\n",
        "grid = dict(n_neighbors=k_range)\n",
        "cv = KFold(n_splits=5)\n",
        "grid_search = GridSearchCV(\n",
        "        estimator=model_knn,\n",
        "        param_grid=grid,\n",
        "        pre_dispatch = 6,\n",
        "        n_jobs=6,\n",
        "        cv=cv,\n",
        "        scoring=\"accuracy\",\n",
        "        error_score=0,\n",
        "        verbose=1,\n",
        "        )\n",
        "grid_result = grid_search.fit(transformed_train_X1, train_y1)\n",
        "\n"
      ]
    },
    {
      "cell_type": "code",
      "execution_count": 43,
      "metadata": {
        "id": "F4jg36lv3T1X"
      },
      "outputs": [],
      "source": [
        "# model_svm = svm.SVC(kernel=\"linear\")\n",
        "# C_list = [0.1, 0.5, 1, 5]\n",
        "#         # define grid search\n",
        "# grid = dict(C=C_list)\n",
        "# cv = KFold(n_splits=5)\n",
        "# grid_search = GridSearchCV(\n",
        "#         estimator=model_svm,\n",
        "#         param_grid=grid,\n",
        "#         pre_dispatch = 16,\n",
        "#         n_jobs=4,\n",
        "#         cv=cv,\n",
        "#         scoring=\"accuracy\",\n",
        "#         error_score=0,\n",
        "#         verbose=1,\n",
        "#         )\n",
        "# grid_result = grid_search.fit(transformed_train_X1, train_y1)\n",
        "# model_svm = svm.SVC(kernel=\"linear\",C=grid_result.best_params_[\"C\"])\n",
        "# model_svm.fit(transformed_train_X1, train_y1)\n",
        "# y_hat_svm = model_svm.predict(transformed_test_X1)\n",
        "# print(grid_result.cv_results_['mean_test_score'])\n",
        "# print(grid_result.cv_results_['std_test_score'])\n",
        "# print(accuracy_score(y_hat_svm, test_y1))\n",
        "\n"
      ]
    },
    {
      "cell_type": "markdown",
      "metadata": {
        "id": "IJ7bezApwBd1"
      },
      "source": [
        "#### Task 5-1\n",
        "Plot the model performance (mean accuracy and SD) for different hyper-parameter values.\n",
        "- How does the accuracy vary as function of the hyperparameter?\n"
      ]
    },
    {
      "cell_type": "code",
      "execution_count": 44,
      "metadata": {
        "colab": {
          "base_uri": "https://localhost:8080/",
          "height": 489
        },
        "id": "5f9K5jKvcR_-",
        "outputId": "9437f853-8f3a-41db-e5ff-58390b3bb31d"
      },
      "outputs": [
        {
          "data": {
            "text/plain": [
              "Text(0, 0.5, 'mean accuracy')"
            ]
          },
          "execution_count": 44,
          "metadata": {},
          "output_type": "execute_result"
        },
        {
          "data": {
            "image/png": "[encoded data removed]",
            "text/plain": [
              "<Figure size 640x480 with 1 Axes>"
            ]
          },
          "metadata": {},
          "output_type": "display_data"
        }
      ],
      "source": [
        "scores_mean = grid_result.cv_results_['mean_test_score']\n",
        "\n",
        "\n",
        "_, ax = plt.subplots(1,1)\n",
        "\n",
        "    # Param1 is the X-axis, Param 2 is represented as a different curve (color line)\n",
        "# for idx, val in enumerate(k_range):\n",
        "ax.plot(k_range, scores_mean, '-o')\n",
        "\n",
        "# ax.tick_params(axis='x', rotation=rot)\n",
        "ax.set_title('Grid Search Scores')\n",
        "ax.set_xlabel(\"n_neighbors\")\n",
        "ax.set_ylabel('mean accuracy')\n",
        "# ax.legend(loc='best')\n",
        "  # ax.grid('on')"
      ]
    },
    {
      "cell_type": "code",
      "execution_count": 44,
      "metadata": {
        "colab": {
          "base_uri": "https://localhost:8080/",
          "height": 489
        },
        "id": "PBhRj0RPfTuA",
        "outputId": "24de473b-d346-4db5-bd45-5b41b47c765f"
      },
      "outputs": [
        {
          "data": {
            "text/plain": [
              "Text(0, 0.5, 'SD')"
            ]
          },
          "execution_count": 44,
          "metadata": {},
          "output_type": "execute_result"
        },
        {
          "data": {
            "image/png": "[encoded data removed]",
            "text/plain": [
              "<Figure size 640x480 with 1 Axes>"
            ]
          },
          "metadata": {},
          "output_type": "display_data"
        }
      ],
      "source": [
        "scores_mean = grid_result.cv_results_['std_test_score']\n",
        "\n",
        "\n",
        "_, ax = plt.subplots(1,1)\n",
        "\n",
        "    # Param1 is the X-axis, Param 2 is represented as a different curve (color line)\n",
        "# for idx, val in enumerate(k_range):\n",
        "ax.plot(k_range, scores_mean, '-o')\n",
        "\n",
        "# ax.tick_params(axis='x', rotation=rot)\n",
        "ax.set_title('Grid Search Scores')\n",
        "ax.set_xlabel(\"n_neighbors\")\n",
        "ax.set_ylabel('SD')\n",
        "# ax.legend(loc='best')\n",
        "  # ax.grid('on')"
      ]
    },
    {
      "cell_type": "markdown",
      "metadata": {
        "id": "FgOmKtvefdbb"
      },
      "source": [
        "#### Task 5-2\n",
        "Print the average cross-validation score, the best cross-validation score, the best hyperparameter and the test-score.\n",
        " - Is there a difference between the average cross-validation score, the best cross-validation score and the test-score?\n",
        "\n"
      ]
    },
    {
      "cell_type": "code",
      "execution_count": 47,
      "metadata": {
        "colab": {
          "base_uri": "https://localhost:8080/"
        },
        "id": "FVV5KidApn1N",
        "outputId": "b9b24722-c10b-4737-a829-75d6a0934019"
      },
      "outputs": [
        {
          "name": "stdout",
          "output_type": "stream",
          "text": [
            "average cross-validation test score:  0.8236221117046315\n",
            "best cross-validation test score:  0.8339289003499722\n",
            "the best hyperparameter:  {'n_neighbors': 8}\n",
            "the test score on test set:  0.8302949950281737\n"
          ]
        }
      ],
      "source": [
        "# The solution only on KNN model with X1 data\n",
        "model_knn = KNeighborsClassifier(n_neighbors = grid_result.best_params_[\"n_neighbors\"])\n",
        "model_knn.fit(transformed_train_X1, train_y1)\n",
        "y_hat_knn = model_knn.predict(transformed_test_X1)\n",
        "print(\"average cross-validation test score: \",grid_result.cv_results_['mean_test_score'].mean())\n",
        "print(\"best cross-validation test score: \", grid_result.cv_results_['mean_test_score'].max())\n",
        "print(\"the best hyperparameter: \",grid_result.best_params_)\n",
        "print(\"the test score on test set: \",accuracy_score(y_hat_knn, test_y1))"
      ]
    },
    {
      "cell_type": "markdown",
      "metadata": {
        "id": "kJXSdDRS3T1X"
      },
      "source": [
        "### Task 6\n",
        "Repeat task 5 using stratified CV with k=5. Centre and scale the data before training the models. Print the average cross-validation score, the best cross-validation score, the best hyperparameter and the test-score.\n",
        "\n",
        "- Did the performances changes with the stratified CV?\n"
      ]
    },
    {
      "cell_type": "code",
      "execution_count": null,
      "metadata": {
        "colab": {
          "background_save": true
        },
        "id": "latPCjhU3T1X",
        "outputId": "4fd3a23f-af1d-4433-dd65-9e09348b5af7"
      },
      "outputs": [
        {
          "name": "stdout",
          "output_type": "stream",
          "text": [
            "Fitting 5 folds for each of 9 candidates, totalling 45 fits\n",
            "[0.79716338 0.81259901 0.81993001 0.82567692 0.82685577 0.83065021\n",
            " 0.83249217 0.83400258 0.83396574]\n",
            "[0.00336509 0.00499385 0.00636327 0.00565647 0.00648935 0.00484068\n",
            " 0.00597386 0.005248   0.00650564]\n",
            "0.8302949950281737\n"
          ]
        }
      ],
      "source": [
        "# The solution only shows the StratifiedKFold cv on KNN model with X1 data\n",
        "model_knn = KNeighborsClassifier()\n",
        "k_range = np.arange(1, 10)\n",
        "# define grid search\n",
        "grid = dict(n_neighbors=k_range)\n",
        "cv = StratifiedKFold(n_splits=5)\n",
        "grid_search = GridSearchCV(\n",
        "        estimator=model_knn,\n",
        "        param_grid=grid,\n",
        "        pre_dispatch = 6,\n",
        "        n_jobs=6,\n",
        "        cv=cv,\n",
        "        scoring=\"accuracy\",\n",
        "        error_score=0,\n",
        "        verbose=1,\n",
        "        )\n",
        "grid_result = grid_search.fit(transformed_train_X1,train_y1)\n",
        "# print(grid_result.cv_results_['mean_test_score'])\n",
        "model_knn = KNeighborsClassifier(n_neighbors = grid_result.best_params_[\"n_neighbors\"])\n",
        "model_knn.fit(transformed_train_X1, train_y1)\n",
        "\n",
        "\n",
        "y_hat_knn = model_knn.predict(transformed_test_X1)\n",
        "print(grid_result.cv_results_['mean_test_score'])\n",
        "print(grid_result.cv_results_['std_test_score'])\n",
        "print(accuracy_score(y_hat_knn, test_y1))"
      ]
    },
    {
      "cell_type": "markdown",
      "metadata": {
        "id": "xacpzqp5xdSO"
      },
      "source": [
        "### Task 7\n",
        "Repeat task 5 using stratified group CV considering 'Race' as a group with k=5. Centre and scale the data before training the models. Print the average cross-validation score, the best cross-validation score, the best hyperparameter and the test-score.\n",
        " - Did the performances changes with the stratified group CV?"
      ]
    },
    {
      "cell_type": "code",
      "execution_count": null,
      "metadata": {
        "colab": {
          "background_save": true
        },
        "id": "aCfyZ5eBxhMa",
        "outputId": "726d23ec-378d-40f7-e78e-e5c288629b3a"
      },
      "outputs": [
        {
          "name": "stdout",
          "output_type": "stream",
          "text": [
            "Fitting 5 folds for each of 9 candidates, totalling 45 fits\n",
            "[0.8317898  0.85606252 0.84265341 0.8585188  0.85745274 0.86206433\n",
            " 0.86204382 0.86398404 0.86401743]\n",
            "[0.04372075 0.05113691 0.04130991 0.04656238 0.03843628 0.03818564\n",
            " 0.0384076  0.04107824 0.03640064]\n",
            "0.8269804441498178\n"
          ]
        }
      ],
      "source": [
        "# The solution only shows the stratified group CV cv on KNN model with X1 data\n",
        "model_knn = KNeighborsClassifier()\n",
        "k_range = np.arange(1, 10)\n",
        "# define grid search\n",
        "grid = dict(n_neighbors=k_range)\n",
        "cv = StratifiedGroupKFold(n_splits=5)\n",
        "grid_search = GridSearchCV(\n",
        "        estimator=model_knn,\n",
        "        param_grid=grid,\n",
        "        pre_dispatch = 6,\n",
        "        n_jobs=6,\n",
        "        cv=cv,\n",
        "        scoring=\"accuracy\",\n",
        "        error_score=0,\n",
        "        verbose=1,\n",
        "        )\n",
        "grid_result = grid_search.fit(transformed_train_X1, train_y1,groups=train_X1[\"Race\"])\n",
        "model_knn = KNeighborsClassifier(n_neighbors = grid_result.best_params_[\"n_neighbors\"])\n",
        "model_knn.fit(transformed_train_X1, train_y1)\n",
        "\n",
        "\n",
        "y_hat_knn = model_knn.predict(transformed_test_X1)\n",
        "print(grid_result.cv_results_['mean_test_score'])\n",
        "print(grid_result.cv_results_['std_test_score'])\n",
        "print(accuracy_score(y_hat_knn, test_y1))"
      ]
    },
    {
      "cell_type": "markdown",
      "metadata": {
        "id": "s7omJ16T3T1X"
      },
      "source": [
        "### Task 8\n",
        "Now implement a nested CV for optimize the models’ hyper-parameters and assessing the models’ performance (with k=5 for the inner and outer loop). The inner loop should optimize the models’ hyper-parameters and the outer loop should assess the models’ performance."
      ]
    },
    {
      "cell_type": "code",
      "execution_count": null,
      "metadata": {
        "colab": {
          "background_save": true
        },
        "id": "GGDIrYgYyCNZ"
      },
      "outputs": [],
      "source": [
        "inner_cv = KFold(n_splits=5)\n",
        "outer_cv = KFold(n_splits=5)\n"
      ]
    },
    {
      "cell_type": "code",
      "execution_count": null,
      "metadata": {
        "colab": {
          "background_save": true
        },
        "id": "PnYWxRAOyCK4"
      },
      "outputs": [],
      "source": [
        "#reload X1\n",
        "df = pd.read_csv(\"clean_adult.csv\")\n",
        "df = df.drop([\"Education\"], axis=1)\n",
        "df_dropna = df.dropna()"
      ]
    },
    {
      "cell_type": "code",
      "execution_count": null,
      "metadata": {
        "colab": {
          "background_save": true
        },
        "id": "S2i7d9PF3T1X",
        "outputId": "ef5c1149-71f5-4f27-f339-b7a4249bb9d7"
      },
      "outputs": [
        {
          "name": "stdout",
          "output_type": "stream",
          "text": [
            "Fitting 5 folds for each of 9 candidates, totalling 45 fits\n",
            "Fitting 5 folds for each of 9 candidates, totalling 45 fits\n",
            "Fitting 5 folds for each of 9 candidates, totalling 45 fits\n",
            "Fitting 5 folds for each of 9 candidates, totalling 45 fits\n",
            "Fitting 5 folds for each of 9 candidates, totalling 45 fits\n"
          ]
        }
      ],
      "source": [
        "score = []\n",
        "model_knn = KNeighborsClassifier()\n",
        "k_range = np.arange(1, 10)\n",
        "# define grid search\n",
        "grid = dict(n_neighbors=k_range)\n",
        "for i, (train_index, test_index) in enumerate(outer_cv.split(df_dropna)):\n",
        "  train_data = df_dropna.iloc[train_index].drop([\"Y\"], axis=1)\n",
        "  test_data = df_dropna.iloc[test_index].drop([\"Y\"], axis=1)\n",
        "  train_data_y = np.where(df_dropna.iloc[train_index][\"Y\"] == \">50K\", 1, 0)\n",
        "  test_data_y = np.where(df_dropna.iloc[test_index][\"Y\"] == \">50K\", 1, 0)\n",
        "  transformed_train_tem = ct1.fit_transform(train_data, train_data_y)\n",
        "  transformed_test_tem = ct1.transform(test_data)\n",
        "  grid_search = GridSearchCV(\n",
        "        estimator=model_knn,\n",
        "        param_grid=grid,\n",
        "        pre_dispatch = 6,\n",
        "        n_jobs=6,\n",
        "        cv=inner_cv,\n",
        "        scoring=\"accuracy\",\n",
        "        error_score=0,\n",
        "        verbose=1,\n",
        "        )\n",
        "  grid_result = grid_search.fit(transformed_train_tem, train_data_y)\n",
        "  model_knn = KNeighborsClassifier(n_neighbors = grid_result.best_params_[\"n_neighbors\"])\n",
        "  model_knn.fit(transformed_train_tem, train_data_y)\n",
        "  y_hat_knn = model_knn.predict(transformed_test_tem)\n",
        "  score.append(accuracy_score(y_hat_knn, test_data_y))\n",
        "\n",
        "\n",
        "\n",
        "\n"
      ]
    },
    {
      "cell_type": "code",
      "execution_count": null,
      "metadata": {
        "colab": {
          "background_save": true
        },
        "id": "Ur9nJetCiOWb",
        "outputId": "d76ac7d5-cff5-4ce3-acfe-d1500c9f6ef2"
      },
      "outputs": [
        {
          "data": {
            "text/plain": [
              "0.8336981647358626"
            ]
          },
          "execution_count": 49,
          "metadata": {},
          "output_type": "execute_result"
        }
      ],
      "source": [
        "np.mean(score)"
      ]
    },
    {
      "cell_type": "code",
      "execution_count": null,
      "metadata": {
        "colab": {
          "background_save": true
        },
        "id": "7wiHOk-8mYUI",
        "outputId": "52caa356-f009-41f8-df4c-8d46ea5b4724"
      },
      "outputs": [
        {
          "data": {
            "text/plain": [
              "[0.8294380905022377,\n",
              " 0.8339134758826454,\n",
              " 0.8368700265251989,\n",
              " 0.8388594164456233,\n",
              " 0.8294098143236074]"
            ]
          },
          "execution_count": 50,
          "metadata": {},
          "output_type": "execute_result"
        }
      ],
      "source": [
        "score"
      ]
    },
    {
      "cell_type": "code",
      "execution_count": null,
      "metadata": {
        "colab": {
          "background_save": true
        },
        "id": "B3Y4CJsPma8e"
      },
      "outputs": [],
      "source": []
    }
  ],
  "metadata": {
    "colab": {
      "provenance": []
    },
    "kernelspec": {
      "display_name": "Python 3 (ipykernel)",
      "language": "python",
      "name": "python3"
    },
    "language_info": {
      "codemirror_mode": {
        "name": "ipython",
        "version": 3
      },
      "file_extension": ".py",
      "mimetype": "text/x-python",
      "name": "python",
      "nbconvert_exporter": "python",
      "pygments_lexer": "ipython3",
      "version": "3.11.0"
    },
    "vscode": {
      "interpreter": {
        "hash": "c975486aa82b32d30c2438da9d14334177c2b4d93822b75ed42b1917e361f4e6"
      }
    }
  },
  "nbformat": 4,
  "nbformat_minor": 0
}
